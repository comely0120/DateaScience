{
 "cells": [
  {
   "cell_type": "code",
   "execution_count": 1,
   "metadata": {
    "id": "2WG2HgvOAbKt"
   },
   "outputs": [],
   "source": [
    "import numpy as np\n",
    "import pandas as pd\n",
    "from bs4 import BeautifulSoup as bs\n",
    "import urllib\n",
    "import requests\n",
    "import re\n",
    "import json\n",
    "from matplotlib import pyplot as plt\n",
    "import matplotlib as mpl\n",
    "import seaborn as sns"
   ]
  },
  {
   "cell_type": "code",
   "execution_count": 2,
   "metadata": {
    "id": "QloXpA7IAbK1"
   },
   "outputs": [],
   "source": [
    "client_id = \"cfIwT1j0qtvQJElOwf1k\"\n",
    "client_secret = \"unlWsxfFoB\""
   ]
  },
  {
   "cell_type": "code",
   "execution_count": 3,
   "metadata": {
    "id": "U37W6BnbAbK2"
   },
   "outputs": [],
   "source": [
    "url = \"https://openapi.naver.com/v1/datalab/search\";\n",
    "body = \"{\\\"startDate\\\":\\\"2019-02-01\\\",\\\"endDate\\\":\\\"2020-07-01\\\",\\\"timeUnit\\\":\\\"month\\\",\\\"keywordGroups\\\":[{\\\"groupName\\\":\\\"버즈\\\",\\\"keywords\\\":[\\\"버즈\\\",\\\"갤럭시버즈\\\"]},{\\\"groupName\\\":\\\"에어팟\\\",\\\"keywords\\\":[\\\"에어팟 2\\\",\\\"에어팟 2세대\\\"]},{\\\"groupName\\\":\\\"QCY\\\",\\\"keywords\\\":[\\\"QCY\\\",\\\"QCYT5\\\"]}]}\"\n",
    "\n",
    "request = urllib.request.Request(url)\n",
    "request.add_header(\"X-Naver-Client-Id\",client_id)\n",
    "request.add_header(\"X-Naver-Client-Secret\",client_secret)\n",
    "request.add_header(\"Content-Type\",\"application/json\")\n",
    "\n",
    "response = urllib.request.urlopen(request, data=body.encode(\"utf-8\"))\n",
    "rescode = response.getcode()\n",
    "\n",
    "if(rescode==200):\n",
    "    response_body = response.read()\n",
    "    scraped = response_body.decode('utf-8')\n",
    "else:\n",
    "    print(\"Error Code:\" + rescode)"
   ]
  },
  {
   "cell_type": "code",
   "execution_count": 4,
   "metadata": {
    "id": "CLBFxmQlAbK3"
   },
   "outputs": [],
   "source": [
    "result = json.loads(scraped)"
   ]
  },
  {
   "cell_type": "code",
   "execution_count": 5,
   "metadata": {
    "id": "JcePKFetAbK4"
   },
   "outputs": [],
   "source": [
    "\n",
    "num = len(result[\"results\"][0][\"data\"])\n",
    "\n",
    "\n",
    "All = pd.DataFrame()\n",
    "\n",
    "All_temp = pd.DataFrame()\n",
    "All_temp = All_temp.append({\"period\" : \"\", \"Budz\" : \"\", \"Airpot-2\" : \"\", \"QCY\" : \"\"},ignore_index=True)\n",
    "\n",
    "col1 = All_temp.columns.get_loc(\"period\")\n",
    "col2 = All_temp.columns.get_loc(\"Budz\")\n",
    "col3 = All_temp.columns.get_loc(\"Airpot-2\")\n",
    "col4 = All_temp.columns.get_loc(\"QCY\")\n",
    "\n",
    "\n",
    "for i in range(0,num) :\n",
    "    All_temp.iat[0,col1] = result[\"results\"][0][\"data\"][i][\"period\"]\n",
    "    All_temp.iat[0,col2] = result[\"results\"][0][\"data\"][i][\"ratio\"]\n",
    "    All_temp.iat[0,col3] = result[\"results\"][1][\"data\"][i][\"ratio\"]\n",
    "    All_temp.iat[0,col4] = result[\"results\"][2][\"data\"][i][\"ratio\"]\n",
    "        \n",
    "        \n",
    "    All = All.append(All_temp,ignore_index=True)\n",
    "    for k in range(0,len(All_temp.columns)):\n",
    "        All_temp.iat[0,k] = \"\"\n",
    "    \n",
    "    \n",
    "All = All[[\"period\",\"Budz\",\"Airpot-2\",\"QCY\"]]   \n"
   ]
  },
  {
   "cell_type": "markdown",
   "metadata": {
    "id": "8YOXjlMYAbK5"
   },
   "source": [
    "# 각각 최대치 비교"
   ]
  },
  {
   "cell_type": "code",
   "execution_count": 6,
   "metadata": {
    "id": "hYxv8V6DAbK5"
   },
   "outputs": [],
   "source": [
    "BM = All[\"Budz\"].max()\n",
    "AM = All[\"Airpot-2\"].max()\n",
    "QM = All[\"QCY\"].max()\n"
   ]
  },
  {
   "cell_type": "code",
   "execution_count": 7,
   "metadata": {
    "id": "XsNq188dAbK6",
    "outputId": "bc95c5fb-fed4-400f-a556-0798f4616ff0"
   },
   "outputs": [
    {
     "data": {
      "text/html": [
       "<div>\n",
       "<style scoped>\n",
       "    .dataframe tbody tr th:only-of-type {\n",
       "        vertical-align: middle;\n",
       "    }\n",
       "\n",
       "    .dataframe tbody tr th {\n",
       "        vertical-align: top;\n",
       "    }\n",
       "\n",
       "    .dataframe thead th {\n",
       "        text-align: right;\n",
       "    }\n",
       "</style>\n",
       "<table border=\"1\" class=\"dataframe\">\n",
       "  <thead>\n",
       "    <tr style=\"text-align: right;\">\n",
       "      <th></th>\n",
       "      <th>period</th>\n",
       "      <th>Budz</th>\n",
       "      <th>Airpot-2</th>\n",
       "      <th>QCY</th>\n",
       "    </tr>\n",
       "  </thead>\n",
       "  <tbody>\n",
       "    <tr>\n",
       "      <th>0</th>\n",
       "      <td>2019-02-01</td>\n",
       "      <td>2.24537</td>\n",
       "      <td>14.7766</td>\n",
       "      <td>1.48265</td>\n",
       "    </tr>\n",
       "    <tr>\n",
       "      <th>1</th>\n",
       "      <td>2019-03-01</td>\n",
       "      <td>25.9149</td>\n",
       "      <td>100</td>\n",
       "      <td>1.77284</td>\n",
       "    </tr>\n",
       "    <tr>\n",
       "      <th>2</th>\n",
       "      <td>2019-04-01</td>\n",
       "      <td>16.1454</td>\n",
       "      <td>38.1789</td>\n",
       "      <td>1.89743</td>\n",
       "    </tr>\n",
       "    <tr>\n",
       "      <th>3</th>\n",
       "      <td>2019-05-01</td>\n",
       "      <td>15.3578</td>\n",
       "      <td>26.9129</td>\n",
       "      <td>1.8924</td>\n",
       "    </tr>\n",
       "    <tr>\n",
       "      <th>4</th>\n",
       "      <td>2019-06-01</td>\n",
       "      <td>14.9995</td>\n",
       "      <td>23.5137</td>\n",
       "      <td>2.35375</td>\n",
       "    </tr>\n",
       "    <tr>\n",
       "      <th>5</th>\n",
       "      <td>2019-07-01</td>\n",
       "      <td>15.8338</td>\n",
       "      <td>20.1727</td>\n",
       "      <td>2.39861</td>\n",
       "    </tr>\n",
       "    <tr>\n",
       "      <th>6</th>\n",
       "      <td>2019-08-01</td>\n",
       "      <td>24.4897</td>\n",
       "      <td>22.647</td>\n",
       "      <td>2.68586</td>\n",
       "    </tr>\n",
       "    <tr>\n",
       "      <th>7</th>\n",
       "      <td>2019-09-01</td>\n",
       "      <td>29.6302</td>\n",
       "      <td>26.7807</td>\n",
       "      <td>5.42473</td>\n",
       "    </tr>\n",
       "    <tr>\n",
       "      <th>8</th>\n",
       "      <td>2019-10-01</td>\n",
       "      <td>24.6323</td>\n",
       "      <td>22.7372</td>\n",
       "      <td>9.09892</td>\n",
       "    </tr>\n",
       "    <tr>\n",
       "      <th>9</th>\n",
       "      <td>2019-11-01</td>\n",
       "      <td>23.7813</td>\n",
       "      <td>21.8847</td>\n",
       "      <td>8.50385</td>\n",
       "    </tr>\n",
       "    <tr>\n",
       "      <th>10</th>\n",
       "      <td>2019-12-01</td>\n",
       "      <td>20.3042</td>\n",
       "      <td>17.8634</td>\n",
       "      <td>7.79372</td>\n",
       "    </tr>\n",
       "    <tr>\n",
       "      <th>11</th>\n",
       "      <td>2020-01-01</td>\n",
       "      <td>19.715</td>\n",
       "      <td>17.6247</td>\n",
       "      <td>6.35049</td>\n",
       "    </tr>\n",
       "    <tr>\n",
       "      <th>12</th>\n",
       "      <td>2020-02-01</td>\n",
       "      <td>17.8417</td>\n",
       "      <td>13.2192</td>\n",
       "      <td>5.00902</td>\n",
       "    </tr>\n",
       "    <tr>\n",
       "      <th>13</th>\n",
       "      <td>2020-03-01</td>\n",
       "      <td>12.7139</td>\n",
       "      <td>10.5885</td>\n",
       "      <td>4.65703</td>\n",
       "    </tr>\n",
       "    <tr>\n",
       "      <th>14</th>\n",
       "      <td>2020-04-01</td>\n",
       "      <td>10.421</td>\n",
       "      <td>9.31224</td>\n",
       "      <td>4.12722</td>\n",
       "    </tr>\n",
       "    <tr>\n",
       "      <th>15</th>\n",
       "      <td>2020-05-01</td>\n",
       "      <td>11.3604</td>\n",
       "      <td>8.39805</td>\n",
       "      <td>3.90124</td>\n",
       "    </tr>\n",
       "    <tr>\n",
       "      <th>16</th>\n",
       "      <td>2020-06-01</td>\n",
       "      <td>8.33435</td>\n",
       "      <td>6.28977</td>\n",
       "      <td>3.42434</td>\n",
       "    </tr>\n",
       "    <tr>\n",
       "      <th>17</th>\n",
       "      <td>2020-07-01</td>\n",
       "      <td>8.50146</td>\n",
       "      <td>6.333</td>\n",
       "      <td>3.1904</td>\n",
       "    </tr>\n",
       "  </tbody>\n",
       "</table>\n",
       "</div>"
      ],
      "text/plain": [
       "        period     Budz Airpot-2      QCY\n",
       "0   2019-02-01  2.24537  14.7766  1.48265\n",
       "1   2019-03-01  25.9149      100  1.77284\n",
       "2   2019-04-01  16.1454  38.1789  1.89743\n",
       "3   2019-05-01  15.3578  26.9129   1.8924\n",
       "4   2019-06-01  14.9995  23.5137  2.35375\n",
       "5   2019-07-01  15.8338  20.1727  2.39861\n",
       "6   2019-08-01  24.4897   22.647  2.68586\n",
       "7   2019-09-01  29.6302  26.7807  5.42473\n",
       "8   2019-10-01  24.6323  22.7372  9.09892\n",
       "9   2019-11-01  23.7813  21.8847  8.50385\n",
       "10  2019-12-01  20.3042  17.8634  7.79372\n",
       "11  2020-01-01   19.715  17.6247  6.35049\n",
       "12  2020-02-01  17.8417  13.2192  5.00902\n",
       "13  2020-03-01  12.7139  10.5885  4.65703\n",
       "14  2020-04-01   10.421  9.31224  4.12722\n",
       "15  2020-05-01  11.3604  8.39805  3.90124\n",
       "16  2020-06-01  8.33435  6.28977  3.42434\n",
       "17  2020-07-01  8.50146    6.333   3.1904"
      ]
     },
     "execution_count": 7,
     "metadata": {},
     "output_type": "execute_result"
    }
   ],
   "source": [
    "All"
   ]
  },
  {
   "cell_type": "code",
   "execution_count": 8,
   "metadata": {
    "id": "X0yYlI7qAbK7"
   },
   "outputs": [],
   "source": [
    "%matplotlib inline\n",
    "import matplotlib.pyplot as plt\n",
    "import seaborn as sns"
   ]
  },
  {
   "cell_type": "code",
   "execution_count": 9,
   "metadata": {
    "id": "OpjpjzgYAbK8"
   },
   "outputs": [],
   "source": [
    "x= pd.DataFrame\n",
    "x= All[\"period\"].apply(lambda x : x[0:7])\n"
   ]
  },
  {
   "cell_type": "markdown",
   "metadata": {
    "id": "Jf0P5B7qAbK8"
   },
   "source": [
    "# 동일 기간 / 3사 제품 검색량 비교"
   ]
  },
  {
   "cell_type": "markdown",
   "metadata": {
    "id": "QaLn0wwqAbK8"
   },
   "source": [
    "### 구간별 검색량의 상대적 비율. 구간별 결과에서 가장 큰 값을 100으로 설정한 상댓값입니다.\n"
   ]
  },
  {
   "cell_type": "code",
   "execution_count": 18,
   "metadata": {
    "id": "gk-CCIu1AbK9",
    "outputId": "6981bfd1-67e0-44af-e0e1-5a9eae61cf4b"
   },
   "outputs": [
    {
     "data": {
      "image/png": "[encoded data removed]",
      "text/plain": [
       "<Figure size 1080x576 with 1 Axes>"
      ]
     },
     "metadata": {
      "needs_background": "light"
     },
     "output_type": "display_data"
    }
   ],
   "source": [
    "plt.figure(figsize=(15, 8))\n",
    "plt.plot(x, All[\"Budz\"], color='#F08080', linestyle='--', linewidth = 3.5)\n",
    "plt.plot(x, All[\"Airpot-2\"], color='#6495ED', linewidth = 3.5)\n",
    "plt.plot(x, All[\"QCY\"], color='#A9A9A9', linestyle=':' ,linewidth = 3.5)\n",
    "\n",
    "plt.legend(['Budz','Airpot-2','QCY'],fontsize=15)\n",
    "\n",
    "\n",
    "title_font = {\n",
    "    'fontsize': 25,\n",
    "    'fontweight': 'bold'\n",
    "}\n",
    "plt.xticks(rotation =60)\n",
    "plt.title('Bluetooth Earphones\\'s Search Volume',fontdict =title_font,loc='center', pad=30)\n",
    "plt.show()"
   ]
  },
  {
   "cell_type": "code",
   "execution_count": null,
   "metadata": {
    "id": "hyYWvL5gAbK9"
   },
   "outputs": [],
   "source": []
  },
  {
   "cell_type": "markdown",
   "metadata": {
    "id": "gj4aRm10AbK-"
   },
   "source": [
    "#  Budz만"
   ]
  },
  {
   "cell_type": "code",
   "execution_count": 12,
   "metadata": {
    "id": "xCXXu1nUAbK-"
   },
   "outputs": [],
   "source": [
    "url = \"https://openapi.naver.com/v1/datalab/search\";\n",
    "body = \"{\\\"startDate\\\":\\\"2019-02-01\\\",\\\"endDate\\\":\\\"2020-07-01\\\",\\\"timeUnit\\\":\\\"month\\\"\\\n",
    ",\\\"gender\\\":\\\"f\\\",\\\"keywordGroups\\\":[{\\\"groupName\\\":\\\"버즈\\\",\\\"keywords\\\":[\\\"버즈\\\",\\\"갤럭시버즈\\\"]}]}\"\n",
    "\n",
    "request = urllib.request.Request(url)\n",
    "request.add_header(\"X-Naver-Client-Id\",client_id)\n",
    "request.add_header(\"X-Naver-Client-Secret\",client_secret)\n",
    "request.add_header(\"Content-Type\",\"application/json\")\n",
    "\n",
    "response = urllib.request.urlopen(request, data=body.encode(\"utf-8\"))\n",
    "rescode = response.getcode()\n",
    "\n",
    "if(rescode==200):\n",
    "    response_body = response.read()\n",
    "    scraped = response_body.decode('utf-8')\n",
    "else:\n",
    "    print(\"Error Code:\" + rescode)\n",
    "    \n",
    "result_f = json.loads(scraped)"
   ]
  },
  {
   "cell_type": "code",
   "execution_count": 13,
   "metadata": {
    "id": "eFlXHT7WAbK_"
   },
   "outputs": [],
   "source": [
    "url = \"https://openapi.naver.com/v1/datalab/search\";\n",
    "body = \"{\\\"startDate\\\":\\\"2019-02-01\\\",\\\"endDate\\\":\\\"2020-07-01\\\",\\\"timeUnit\\\":\\\"month\\\"\\\n",
    ",\\\"gender\\\":\\\"m\\\",\\\"keywordGroups\\\":[{\\\"groupName\\\":\\\"버즈\\\",\\\"keywords\\\":[\\\"버즈\\\",\\\"갤럭시버즈\\\"]}]}\"\n",
    "\n",
    "request = urllib.request.Request(url)\n",
    "request.add_header(\"X-Naver-Client-Id\",client_id)\n",
    "request.add_header(\"X-Naver-Client-Secret\",client_secret)\n",
    "request.add_header(\"Content-Type\",\"application/json\")\n",
    "\n",
    "response = urllib.request.urlopen(request, data=body.encode(\"utf-8\"))\n",
    "rescode = response.getcode()\n",
    "\n",
    "if(rescode==200):\n",
    "    response_body = response.read()\n",
    "    scraped = response_body.decode('utf-8')\n",
    "else:\n",
    "    print(\"Error Code:\" + rescode)\n",
    "    \n",
    "result_m = json.loads(scraped)"
   ]
  },
  {
   "cell_type": "code",
   "execution_count": 14,
   "metadata": {
    "id": "MEnE-n_4AbK_"
   },
   "outputs": [],
   "source": [
    "num = len(result_m[\"results\"][0][\"data\"])\n",
    "\n",
    "BM = pd.DataFrame()\n",
    "BM_temp = pd.DataFrame()\n",
    "BM_temp = BM_temp.append({\"period\" : \"\", \"Budz_M\" : \"\"},ignore_index=True)\n",
    "\n",
    "col1 = BM_temp.columns.get_loc(\"period\")\n",
    "col2 = BM_temp.columns.get_loc(\"Budz_M\")\n",
    "\n",
    "for i in range(0,num) :\n",
    "    BM_temp.iat[0,col1] = result_m[\"results\"][0][\"data\"][i][\"period\"]\n",
    "    BM_temp.iat[0,col2] = result_m[\"results\"][0][\"data\"][i][\"ratio\"]\n",
    "        \n",
    "        \n",
    "    BM = BM.append(BM_temp,ignore_index=True)\n",
    "    for k in range(0,len(BM_temp.columns)):\n",
    "        BM_temp.iat[0,k] = \"\"\n",
    "    \n",
    "    \n",
    "BM = BM[[\"period\",\"Budz_M\"]]   \n",
    "BM = BM.set_index(\"period\")"
   ]
  },
  {
   "cell_type": "code",
   "execution_count": 15,
   "metadata": {
    "id": "wTzSubxmAbLA"
   },
   "outputs": [],
   "source": [
    "num = len(result_f[\"results\"][0][\"data\"])\n",
    "\n",
    "BFM = pd.DataFrame()\n",
    "BFM_temp = pd.DataFrame()\n",
    "BFM_temp = BFM_temp.append({\"period\" : \"\", \"Budz_F\" : \"\"},ignore_index=True)\n",
    "\n",
    "col1 = BFM_temp.columns.get_loc(\"period\")\n",
    "col2 = BFM_temp.columns.get_loc(\"Budz_F\")\n",
    "\n",
    "for i in range(0,num) :\n",
    "    BFM_temp.iat[0,col1] = result_f[\"results\"][0][\"data\"][i][\"period\"]\n",
    "    BFM_temp.iat[0,col2] = result_f[\"results\"][0][\"data\"][i][\"ratio\"]\n",
    "        \n",
    "        \n",
    "    BFM = BFM.append(BFM_temp,ignore_index=True)\n",
    "    for k in range(0,len(BFM_temp.columns)):\n",
    "        BFM_temp.iat[0,k] = \"\"\n",
    "    \n",
    "    \n",
    "BFM = BFM[[\"period\",\"Budz_F\"]]   \n",
    "BFM = BFM.set_index(\"period\")"
   ]
  },
  {
   "cell_type": "code",
   "execution_count": 16,
   "metadata": {
    "id": "6jnwtoBXAbLA",
    "scrolled": true
   },
   "outputs": [],
   "source": [
    "BB =  pd.DataFrame()\n",
    "BB = pd.merge(BM, BFM, on =\"period\")"
   ]
  },
  {
   "cell_type": "code",
   "execution_count": 17,
   "metadata": {
    "id": "EA9TebHTAbLA",
    "outputId": "15bc5ad2-d281-4e33-de91-ff498449cbe4"
   },
   "outputs": [
    {
     "data": {
      "image/png": "[encoded data removed]",
      "text/plain": [
       "<Figure size 1080x360 with 1 Axes>"
      ]
     },
     "metadata": {
      "needs_background": "light"
     },
     "output_type": "display_data"
    }
   ],
   "source": [
    "font_name = mpl.font_manager.FontProperties(fname = 'C:/Windows/Fonts/malgun.ttf').get_name()\n",
    "mpl.rc('font',family=font_name)\n",
    "ax = BB.plot(kind='bar', figsize=(15, 5), legend=True, fontsize=12, color = ['#eaeaea',\"#ffbcb9\"])\n",
    "ax.legend(['남자', '여자'], fontsize=15) \n",
    "ax.set_xlabel('기  간', fontsize=15)          # x축 정보 표시\n",
    "ax.set_ylabel('검색량 (비율 %)', fontsize=12) \n",
    "\n",
    "plt.title('성별에 따른 \\\"Budz\" 검색량',fontdict =title_font,loc='center', pad=30)\n",
    "\n",
    "title_font = {\n",
    "    'fontsize': 25,\n",
    "    'fontweight': 'bold'\n",
    "}\n",
    "plt.xticks(rotation =60)\n",
    "plt.show()"
   ]
  },
  {
   "cell_type": "code",
   "execution_count": null,
   "metadata": {
    "id": "klva_FV1AbLB"
   },
   "outputs": [],
   "source": []
  },
  {
   "cell_type": "markdown",
   "metadata": {
    "id": "S2Pvy8Z9AbLB"
   },
   "source": [
    "# AIrpot- 2만"
   ]
  },
  {
   "cell_type": "code",
   "execution_count": 19,
   "metadata": {
    "id": "s6tjAp4sAbLC"
   },
   "outputs": [],
   "source": [
    "url = \"https://openapi.naver.com/v1/datalab/search\";\n",
    "body = \"{\\\"startDate\\\":\\\"2019-02-01\\\",\\\"endDate\\\":\\\"2020-07-01\\\",\\\"timeUnit\\\":\\\"month\\\"\\\n",
    ",\\\"gender\\\":\\\"f\\\",\\\"keywordGroups\\\":[{\\\"groupName\\\":\\\"에어팟\\\",\\\"keywords\\\":[\\\"에어팟 2\\\",\\\"에어팟 2세대\\\"]}]}\"\n",
    "\n",
    "request = urllib.request.Request(url)\n",
    "request.add_header(\"X-Naver-Client-Id\",client_id)\n",
    "request.add_header(\"X-Naver-Client-Secret\",client_secret)\n",
    "request.add_header(\"Content-Type\",\"application/json\")\n",
    "\n",
    "response = urllib.request.urlopen(request, data=body.encode(\"utf-8\"))\n",
    "rescode = response.getcode()\n",
    "\n",
    "if(rescode==200):\n",
    "    response_body = response.read()\n",
    "    scraped = response_body.decode('utf-8')\n",
    "else:\n",
    "    print(\"Error Code:\" + rescode)\n",
    "    \n",
    "result_f = json.loads(scraped)"
   ]
  },
  {
   "cell_type": "code",
   "execution_count": 20,
   "metadata": {
    "id": "Xv58Eq__AbLC"
   },
   "outputs": [],
   "source": [
    "num = len(result_f[\"results\"][0][\"data\"])\n",
    "\n",
    "AFM = pd.DataFrame()\n",
    "AFM_temp = pd.DataFrame()\n",
    "AFM_temp = AFM_temp.append({\"period\" : \"\", \"Airpot_F\" : \"\"},ignore_index=True)\n",
    "\n",
    "col1 = AFM_temp.columns.get_loc(\"period\")\n",
    "col2 = AFM_temp.columns.get_loc(\"Airpot_F\")\n",
    "\n",
    "for i in range(0,num) :\n",
    "    AFM_temp.iat[0,col1] = result_f[\"results\"][0][\"data\"][i][\"period\"]\n",
    "    AFM_temp.iat[0,col2] = result_f[\"results\"][0][\"data\"][i][\"ratio\"]\n",
    "        \n",
    "        \n",
    "    AFM = AFM.append(AFM_temp,ignore_index=True)\n",
    "    for k in range(0,len(AFM_temp.columns)):\n",
    "        AFM_temp.iat[0,k] = \"\"\n",
    "    \n",
    "    \n",
    "AFM = AFM[[\"period\",\"Airpot_F\"]]   \n",
    "AFM = AFM.set_index(\"period\")"
   ]
  },
  {
   "cell_type": "code",
   "execution_count": 21,
   "metadata": {
    "id": "6kiFHpvbAbLD"
   },
   "outputs": [],
   "source": [
    "url = \"https://openapi.naver.com/v1/datalab/search\";\n",
    "body = \"{\\\"startDate\\\":\\\"2019-02-01\\\",\\\"endDate\\\":\\\"2020-07-01\\\",\\\"timeUnit\\\":\\\"month\\\"\\\n",
    ",\\\"gender\\\":\\\"m\\\",\\\"keywordGroups\\\":[{\\\"groupName\\\":\\\"에어팟\\\",\\\"keywords\\\":[\\\"에어팟 2\\\",\\\"에어팟 2세대\\\"]}]}\"\n",
    "\n",
    "request = urllib.request.Request(url)\n",
    "request.add_header(\"X-Naver-Client-Id\",client_id)\n",
    "request.add_header(\"X-Naver-Client-Secret\",client_secret)\n",
    "request.add_header(\"Content-Type\",\"application/json\")\n",
    "\n",
    "response = urllib.request.urlopen(request, data=body.encode(\"utf-8\"))\n",
    "rescode = response.getcode()\n",
    "\n",
    "if(rescode==200):\n",
    "    response_body = response.read()\n",
    "    scraped = response_body.decode('utf-8')\n",
    "else:\n",
    "    print(\"Error Code:\" + rescode)\n",
    "    \n",
    "result_m = json.loads(scraped)"
   ]
  },
  {
   "cell_type": "code",
   "execution_count": 22,
   "metadata": {
    "id": "bWWHsjbfAbLD"
   },
   "outputs": [],
   "source": [
    "num = len(result_m[\"results\"][0][\"data\"])\n",
    "\n",
    "AM = pd.DataFrame()\n",
    "AM_temp = pd.DataFrame()\n",
    "AM_temp = AM_temp.append({\"period\" : \"\", \"Airpot_M\" : \"\"},ignore_index=True)\n",
    "\n",
    "col1 = AM_temp.columns.get_loc(\"period\")\n",
    "col2 = AM_temp.columns.get_loc(\"Airpot_M\")\n",
    "\n",
    "for i in range(0,num) :\n",
    "    AM_temp.iat[0,col1] = result_m[\"results\"][0][\"data\"][i][\"period\"]\n",
    "    AM_temp.iat[0,col2] = result_m[\"results\"][0][\"data\"][i][\"ratio\"]\n",
    "        \n",
    "        \n",
    "    AM = AM.append(AM_temp,ignore_index=True)\n",
    "    for k in range(0,len(AM_temp.columns)):\n",
    "        AM_temp.iat[0,k] = \"\"\n",
    "    \n",
    "    \n",
    "AM = AM[[\"period\",\"Airpot_M\"]]   \n",
    "AM = AM.set_index(\"period\")"
   ]
  },
  {
   "cell_type": "code",
   "execution_count": 23,
   "metadata": {
    "id": "MBnStluLAbLE"
   },
   "outputs": [],
   "source": [
    "AA =  pd.DataFrame()\n",
    "AA = pd.merge(AM, AFM, on =\"period\")"
   ]
  },
  {
   "cell_type": "code",
   "execution_count": 24,
   "metadata": {
    "id": "JrHGoHGfAbLE",
    "outputId": "90be4c26-38cc-4c39-cf11-9adbbe9a393e"
   },
   "outputs": [
    {
     "data": {
      "image/png": "[encoded data removed]",
      "text/plain": [
       "<Figure size 1080x360 with 1 Axes>"
      ]
     },
     "metadata": {
      "needs_background": "light"
     },
     "output_type": "display_data"
    }
   ],
   "source": [
    "font_name = mpl.font_manager.FontProperties(fname = 'C:/Windows/Fonts/malgun.ttf').get_name()\n",
    "mpl.rc('font',family=font_name)\n",
    "ax = AA.plot(kind='bar', figsize=(15, 5), legend=True, fontsize=12, color = ['#eaeaea',\"#ffbcb9\"])\n",
    "ax.legend(['남자', '여자'], fontsize=15) \n",
    "ax.set_xlabel('기  간', fontsize=15)          # x축 정보 표시\n",
    "ax.set_ylabel('검색량 (비율 %)', fontsize=12) \n",
    "\n",
    "plt.title('성별에 따른 \\\"에어팟\" 검색량',fontdict =title_font,loc='center', pad=30)\n",
    "\n",
    "title_font = {\n",
    "    'fontsize': 25,\n",
    "    'fontweight': 'bold'\n",
    "}\n",
    "plt.xticks(rotation =60)\n",
    "plt.show()"
   ]
  },
  {
   "cell_type": "markdown",
   "metadata": {
    "id": "0gdWtJiWAbLE"
   },
   "source": [
    "# 11번가 Budz 후기 크롤링"
   ]
  },
  {
   "cell_type": "code",
   "execution_count": 25,
   "metadata": {
    "id": "Npw6J8tmAbLF",
    "outputId": "177d8c94-2d6f-45fc-fb87-f3054a68c18c"
   },
   "outputs": [
    {
     "data": {
      "text/plain": [
       "'2061'"
      ]
     },
     "execution_count": 25,
     "metadata": {},
     "output_type": "execute_result"
    }
   ],
   "source": [
    "# 전체 후기 개수 뽑아오기 위한 URL\n",
    "URL_1 = \"http://www.11st.co.kr/browsing/PreviewPop.tmall?method=getPreviewPop&prdNo=2341601848&reviewTab=Y%E2%80%8B\"\n",
    "res = requests.get(URL_1)     \n",
    "soup = bs(res.text,'html.parser')\n",
    "count_1= soup.find_all(\"ul\")[0].find('span').text.replace(\"(\",\"\")\n",
    "count = count_1.replace(\")\",\"\")\n",
    "count"
   ]
  },
  {
   "cell_type": "code",
   "execution_count": 26,
   "metadata": {
    "id": "AN71XzTdAbLF",
    "outputId": "5de02e01-b624-4f7b-b1fd-df4aa3ffed7a"
   },
   "outputs": [
    {
     "data": {
      "text/plain": [
       "43"
      ]
     },
     "execution_count": 26,
     "metadata": {},
     "output_type": "execute_result"
    }
   ],
   "source": [
    "CntPage = int(count) // 50\n",
    "CntPage = CntPage +2\n",
    "CntPage"
   ]
  },
  {
   "cell_type": "markdown",
   "metadata": {
    "id": "MzGsfoZgAbLF"
   },
   "source": [
    "# STEP 01) 41 페이지의 50개만 "
   ]
  },
  {
   "cell_type": "code",
   "execution_count": null,
   "metadata": {
    "id": "8PLa_-afAbLG"
   },
   "outputs": [],
   "source": [
    "URL = \"http://www.11st.co.kr/browsing/OpenContReviewAction.tmall?method=getProductReviewList&prdNo=2341601848&page=41&pageSize=50&isIgnoreAuth=false\"\n",
    "res = requests.get(URL)     \n",
    "soup = bs(res.text,'html.parser')"
   ]
  },
  {
   "cell_type": "code",
   "execution_count": null,
   "metadata": {
    "id": "hPslR_klAbLG",
    "outputId": "21b30649-0135-4c1d-fdb5-c559358b5c5c"
   },
   "outputs": [],
   "source": [
    "len(soup.find(\"tbody\").find_all(\"tr\",attrs={'class': None}))"
   ]
  },
  {
   "cell_type": "code",
   "execution_count": null,
   "metadata": {
    "id": "Fw_7PK9ZAbLG",
    "outputId": "76379e67-5168-43cd-aeba-90181cf4c714"
   },
   "outputs": [],
   "source": [
    "# 상세 후기 글귀 뽑아오기 ---> a의 개수가 너무 재각각...0/1/2\n",
    "for i in range(0, len(soup.find(\"tbody\").find_all(\"tr\",attrs={'class': None}))) :\n",
    "    print(i)\n",
    "    print(soup.find(\"tbody\").find_all(\"tr\",attrs={'class': None})[i].find_all(\"a\"))\n",
    "    print(\"=============================\")\n",
    "    print(len(soup.find(\"tbody\").find_all(\"tr\",attrs={'class': None})[i].find_all(\"a\")))\n",
    "    print(\"%%%%%%%%%%%%%%%%%%%%%%%%%%%%%%%%%%%%%%%%%%%%%%%%%%%%%%%%%%%%%%%%%%%%%%%%%%%%%%%%%%%%%%%%%%%%%\")"
   ]
  },
  {
   "cell_type": "code",
   "execution_count": null,
   "metadata": {
    "id": "Hh6NJGueAbLH",
    "outputId": "76595ee5-152e-453a-b8fe-03a022fb09fe"
   },
   "outputs": [],
   "source": [
    "soup.find(\"tbody\").find_all(\"tr\",attrs={'class': None})[16].find_all(\"a\")[0].text"
   ]
  },
  {
   "cell_type": "code",
   "execution_count": null,
   "metadata": {
    "id": "sb5smBa2AbLH",
    "outputId": "8ca9990c-ba6c-4412-b9f9-81846725e78a"
   },
   "outputs": [],
   "source": [
    "soup.find_all(\"tr\")[6].find_all(\"a\")[0].text.strip()"
   ]
  },
  {
   "cell_type": "code",
   "execution_count": null,
   "metadata": {
    "id": "VzQ5jVgUAbLI",
    "outputId": "8462043f-9a8a-4806-822c-a5c4f5ea0555"
   },
   "outputs": [],
   "source": [
    "# 쓰레기 값\n",
    "soup.find_all(\"tr\")[24].get(\"class\") == ['trReview']"
   ]
  },
  {
   "cell_type": "code",
   "execution_count": null,
   "metadata": {
    "id": "dflKryDTAbLI",
    "outputId": "1c86167c-10bd-46bd-e953-e0b8204fdd21"
   },
   "outputs": [],
   "source": [
    "# 후기 등록 날짜\n",
    "soup.find(\"tbody\").find_all(\"tr\",attrs={'class': None})[1].find(\"span\",class_=\"date\").text"
   ]
  },
  {
   "cell_type": "code",
   "execution_count": null,
   "metadata": {
    "id": "XnNlkWc9AbLJ",
    "outputId": "63bcb1de-9f17-44b9-83a9-64c3b76c3687"
   },
   "outputs": [],
   "source": [
    "# 별점\n",
    "soup.find(\"tbody\").find_all(\"tr\",attrs={'class': None})[1].find(\"strong\").text"
   ]
  },
  {
   "cell_type": "code",
   "execution_count": null,
   "metadata": {
    "id": "EHisK9KCAbLJ",
    "outputId": "4a4833b2-5bd0-49db-ea23-fffaa0fd1f7e"
   },
   "outputs": [],
   "source": [
    "# 상세 후기 글귀\n",
    "soup.find(\"tbody\").find_all(\"tr\",attrs={'class': None})[1].find_all(\"a\")[1].text.strip()"
   ]
  },
  {
   "cell_type": "code",
   "execution_count": null,
   "metadata": {
    "id": "94ep9SLzAbLJ",
    "outputId": "2105cc9b-7105-45fa-f6f0-6451f76cff46",
    "scrolled": false
   },
   "outputs": [],
   "source": [
    "DF = pd.DataFrame()\n",
    "\n",
    "DDF = pd.DataFrame()\n",
    "DDF = DDF.append({\"Star\":\"\", \"Strong\":\"\",\"Comment\":\"\",\"Date\":\"\",\"Y-M\":\"\"},ignore_index=True)\n",
    "\n",
    "num = len(soup.find(\"tbody\").find_all(\"tr\",attrs={'class': None}))\n",
    "print(num)\n",
    "\n",
    "col1 = DDF.columns.get_loc(\"Star\")\n",
    "col2 = DDF.columns.get_loc(\"Strong\")\n",
    "col3 = DDF.columns.get_loc(\"Comment\")\n",
    "col4 = DDF.columns.get_loc(\"Date\")\n",
    "col5 = DDF.columns.get_loc(\"Y-M\")\n",
    "\n",
    "for i in range(1,num):\n",
    "        DDF.iat[0,col1] = soup.find(\"tbody\").find_all(\"tr\",attrs={'class': None})[i].find(\"span\").text.strip()\n",
    "        DDF.iat[0,col2] = soup.find(\"tbody\").find_all(\"tr\",attrs={'class': None})[i].find(\"strong\").text\n",
    "        DDF.iat[0,col4] = soup.find(\"tbody\").find_all(\"tr\",attrs={'class': None})[i].find(\"span\",class_=\"date\").text\n",
    "        DDF.iat[0,col5] = (soup.find(\"tbody\").find_all(\"tr\",attrs={'class': None})[i].find(\"span\",class_=\"date\").text)[0:7]\n",
    "        if len(soup.find(\"tbody\").find_all(\"tr\",attrs={'class': None})[i].find_all(\"a\")) == 2 :\n",
    "            DDF.iat[0,col3] = soup.find(\"tbody\").find_all(\"tr\",attrs={'class': None})[i].find_all(\"a\")[1].text.strip()\n",
    "        elif len(soup.find(\"tbody\").find_all(\"tr\",attrs={'class': None})[i].find_all(\"a\")) == 1 :\n",
    "            DDF.iat[0,col3] = soup.find(\"tbody\").find_all(\"tr\",attrs={'class': None})[i].find_all(\"a\")[0].text.strip()\n",
    "        else :\n",
    "            continue\n",
    "\n",
    "\n",
    "        DF = DF.append(DDF,ignore_index=True)\n",
    "\n",
    "\n",
    "        for j in range(0,len(DDF.columns)):\n",
    "            DDF.iat[0,j] = \"\"\n",
    "    \n",
    "\n",
    "\n",
    "DF[[\"Star\",\"Strong\",\"Comment\",\"Date\",\"Y-M\"]]\n",
    "\n",
    "\n"
   ]
  },
  {
   "cell_type": "markdown",
   "metadata": {
    "id": "YbPpzYlGAbLK"
   },
   "source": [
    "# STEP 02) 전체 후기 2061개 "
   ]
  },
  {
   "cell_type": "code",
   "execution_count": 27,
   "metadata": {
    "id": "3W3edHQOAbLK",
    "outputId": "4212b9f7-c7c0-4063-a329-0ff763907a84"
   },
   "outputs": [
    {
     "data": {
      "text/html": [
       "<div>\n",
       "<style scoped>\n",
       "    .dataframe tbody tr th:only-of-type {\n",
       "        vertical-align: middle;\n",
       "    }\n",
       "\n",
       "    .dataframe tbody tr th {\n",
       "        vertical-align: top;\n",
       "    }\n",
       "\n",
       "    .dataframe thead th {\n",
       "        text-align: right;\n",
       "    }\n",
       "</style>\n",
       "<table border=\"1\" class=\"dataframe\">\n",
       "  <thead>\n",
       "    <tr style=\"text-align: right;\">\n",
       "      <th></th>\n",
       "      <th>Star</th>\n",
       "      <th>Strong</th>\n",
       "      <th>Comment</th>\n",
       "      <th>Date</th>\n",
       "      <th>Y-M</th>\n",
       "    </tr>\n",
       "  </thead>\n",
       "  <tbody>\n",
       "    <tr>\n",
       "      <th>0</th>\n",
       "      <td>적극추천</td>\n",
       "      <td>최고예요</td>\n",
       "      <td>노트8 사용자 입니다. 아이팟이랑 고민하다가 저렴하게 올라와서 구매했습니다. 전 많...</td>\n",
       "      <td>2019-12-30</td>\n",
       "      <td>2019-12</td>\n",
       "    </tr>\n",
       "    <tr>\n",
       "      <th>1</th>\n",
       "      <td>적극추천</td>\n",
       "      <td>최고예요</td>\n",
       "      <td>좋아요 ~아주 좋아요 아들이 너무 만족해 하네요</td>\n",
       "      <td>2019-08-30</td>\n",
       "      <td>2019-08</td>\n",
       "    </tr>\n",
       "    <tr>\n",
       "      <th>2</th>\n",
       "      <td>추천</td>\n",
       "      <td>좋아요</td>\n",
       "      <td>일요일날 노랑 주문했는데 월요일날 점심에 노랑색 재고 없다고 환불 및 색상변경 전화...</td>\n",
       "      <td>2019-05-30</td>\n",
       "      <td>2019-05</td>\n",
       "    </tr>\n",
       "    <tr>\n",
       "      <th>3</th>\n",
       "      <td>적극추천</td>\n",
       "      <td>최고예요</td>\n",
       "      <td>짱이쁘고 콩나물팟보다 훨신조아요</td>\n",
       "      <td>2019-05-30</td>\n",
       "      <td>2019-05</td>\n",
       "    </tr>\n",
       "    <tr>\n",
       "      <th>4</th>\n",
       "      <td>추천</td>\n",
       "      <td>좋아요</td>\n",
       "      <td>잘받았습니다 이런제품은 첨 써보는거라 고장없이 잘 써야할텐데 좀 걱정이긴하지만 비싼...</td>\n",
       "      <td>2019-05-30</td>\n",
       "      <td>2019-05</td>\n",
       "    </tr>\n",
       "    <tr>\n",
       "      <th>...</th>\n",
       "      <td>...</td>\n",
       "      <td>...</td>\n",
       "      <td>...</td>\n",
       "      <td>...</td>\n",
       "      <td>...</td>\n",
       "    </tr>\n",
       "    <tr>\n",
       "      <th>2054</th>\n",
       "      <td>적극추천</td>\n",
       "      <td>최고예요</td>\n",
       "      <td>완전 좋음!  굿굿굿</td>\n",
       "      <td>2019-03-27</td>\n",
       "      <td>2019-03</td>\n",
       "    </tr>\n",
       "    <tr>\n",
       "      <th>2055</th>\n",
       "      <td>적극추천</td>\n",
       "      <td>최고예요</td>\n",
       "      <td></td>\n",
       "      <td>2019-03-27</td>\n",
       "      <td>2019-03</td>\n",
       "    </tr>\n",
       "    <tr>\n",
       "      <th>2056</th>\n",
       "      <td>적극추천</td>\n",
       "      <td>최고예요</td>\n",
       "      <td>좋아요좋아요좋아요</td>\n",
       "      <td>2019-03-27</td>\n",
       "      <td>2019-03</td>\n",
       "    </tr>\n",
       "    <tr>\n",
       "      <th>2057</th>\n",
       "      <td>적극추천</td>\n",
       "      <td>최고예요</td>\n",
       "      <td>배송도 빠르고 좋아요 잘받았습니다.</td>\n",
       "      <td>2019-03-26</td>\n",
       "      <td>2019-03</td>\n",
       "    </tr>\n",
       "    <tr>\n",
       "      <th>2058</th>\n",
       "      <td>적극추천</td>\n",
       "      <td>최고예요</td>\n",
       "      <td>배송 오래걸릴줄알았는데 매우 빠르게 왔네요충전중이라 청음은 못해？f지만 기대됩니다</td>\n",
       "      <td>2019-03-26</td>\n",
       "      <td>2019-03</td>\n",
       "    </tr>\n",
       "  </tbody>\n",
       "</table>\n",
       "<p>2059 rows × 5 columns</p>\n",
       "</div>"
      ],
      "text/plain": [
       "      Star Strong                                            Comment  \\\n",
       "0     적극추천   최고예요  노트8 사용자 입니다. 아이팟이랑 고민하다가 저렴하게 올라와서 구매했습니다. 전 많...   \n",
       "1     적극추천   최고예요                         좋아요 ~아주 좋아요 아들이 너무 만족해 하네요   \n",
       "2       추천    좋아요  일요일날 노랑 주문했는데 월요일날 점심에 노랑색 재고 없다고 환불 및 색상변경 전화...   \n",
       "3     적극추천   최고예요                                  짱이쁘고 콩나물팟보다 훨신조아요   \n",
       "4       추천    좋아요  잘받았습니다 이런제품은 첨 써보는거라 고장없이 잘 써야할텐데 좀 걱정이긴하지만 비싼...   \n",
       "...    ...    ...                                                ...   \n",
       "2054  적극추천   최고예요                                        완전 좋음!  굿굿굿   \n",
       "2055  적극추천   최고예요                                                      \n",
       "2056  적극추천   최고예요                                          좋아요좋아요좋아요   \n",
       "2057  적극추천   최고예요                                배송도 빠르고 좋아요 잘받았습니다.   \n",
       "2058  적극추천   최고예요      배송 오래걸릴줄알았는데 매우 빠르게 왔네요충전중이라 청음은 못해？f지만 기대됩니다   \n",
       "\n",
       "            Date      Y-M  \n",
       "0     2019-12-30  2019-12  \n",
       "1     2019-08-30  2019-08  \n",
       "2     2019-05-30  2019-05  \n",
       "3     2019-05-30  2019-05  \n",
       "4     2019-05-30  2019-05  \n",
       "...          ...      ...  \n",
       "2054  2019-03-27  2019-03  \n",
       "2055  2019-03-27  2019-03  \n",
       "2056  2019-03-27  2019-03  \n",
       "2057  2019-03-26  2019-03  \n",
       "2058  2019-03-26  2019-03  \n",
       "\n",
       "[2059 rows x 5 columns]"
      ]
     },
     "execution_count": 27,
     "metadata": {},
     "output_type": "execute_result"
    }
   ],
   "source": [
    "DF = pd.DataFrame()\n",
    "\n",
    "DDF = pd.DataFrame()\n",
    "DDF = DDF.append({\"Star\":\"\", \"Strong\":\"\",\"Comment\":\"\",\"Date\":\"\",\"Y-M\":\"\"},ignore_index=True)\n",
    "\n",
    "\n",
    "\n",
    "col1 = DDF.columns.get_loc(\"Star\")\n",
    "col2 = DDF.columns.get_loc(\"Strong\")\n",
    "col3 = DDF.columns.get_loc(\"Comment\")\n",
    "col4 = DDF.columns.get_loc(\"Date\")\n",
    "col5 = DDF.columns.get_loc(\"Y-M\")\n",
    "\n",
    "\n",
    "\n",
    "for p in range(1,CntPage):\n",
    "    # 페이지 마다 URL 생성\n",
    "    URL = \"http://www.11st.co.kr/browsing/OpenContReviewAction.tmall?method=getProductReviewList&prdNo=2341601848\"\n",
    "    page = \"&page=\" + str(p)\n",
    "    page_s = \"&pageSize=50&isIgnoreAuth=false\"\n",
    "    URL_2 = URL + page + page_s\n",
    "    res = requests.get(URL_2)     \n",
    "    soup = bs(res.text,'html.parser')\n",
    "    \n",
    "    num = len(soup.find(\"tbody\").find_all(\"tr\",attrs={'class': None}))\n",
    "    for i in range(0,num):\n",
    "        DDF.iat[0,col1] = soup.find(\"tbody\").find_all(\"tr\",attrs={'class': None})[i].find(\"span\").text.strip()\n",
    "        DDF.iat[0,col2] = soup.find(\"tbody\").find_all(\"tr\",attrs={'class': None})[i].find(\"strong\").text\n",
    "        DDF.iat[0,col4] = soup.find(\"tbody\").find_all(\"tr\",attrs={'class': None})[i].find(\"span\",class_=\"date\").text\n",
    "        DDF.iat[0,col5] = (soup.find(\"tbody\").find_all(\"tr\",attrs={'class': None})[i].find(\"span\",class_=\"date\").text)[0:7]\n",
    "        if len(soup.find(\"tbody\").find_all(\"tr\",attrs={'class': None})[i].find_all(\"a\")) == 2 :\n",
    "            DDF.iat[0,col3] = soup.find(\"tbody\").find_all(\"tr\",attrs={'class': None})[i].find_all(\"a\")[1].text.strip()\n",
    "        else:\n",
    "            DDF.iat[0,col3] = soup.find(\"tbody\").find_all(\"tr\",attrs={'class': None})[i].find_all(\"a\")[0].text.strip()\n",
    "\n",
    "        DF = DF.append(DDF,ignore_index=True)\n",
    "\n",
    "\n",
    "        for j in range(0,len(DDF.columns)):\n",
    "            DDF.iat[0,j] = \"\"\n",
    "    \n",
    "\n",
    "\n",
    "DF[[\"Star\",\"Strong\",\"Comment\",\"Date\",\"Y-M\"]]\n",
    "\n"
   ]
  },
  {
   "cell_type": "markdown",
   "metadata": {
    "id": "9IEqV9GpAbLL"
   },
   "source": [
    "# STEP 03) 별 개수 컬럼 생성"
   ]
  },
  {
   "cell_type": "code",
   "execution_count": 28,
   "metadata": {
    "id": "ksBKVLReAbLL"
   },
   "outputs": [],
   "source": [
    "DF[\"Num_Star\"] = \"\"\n",
    "\n",
    "for i in range(0,len(DF)) :\n",
    "    if DF.loc[i,\"Strong\"] == \"최고예요\":\n",
    "        DF.loc[i,\"Num_Star\"]= 5\n",
    "        \n",
    "    elif DF.loc[i,\"Strong\"] == \"좋아요\" :\n",
    "        DF.loc[i,\"Num_Star\"] = 4\n",
    "        \n",
    "    elif DF.loc[i,\"Strong\"] == \"보통이에요\":\n",
    "         DF.loc[i,\"Num_Star\"] = 3\n",
    "            \n",
    "    elif DF.loc[i,\"Strong\"] == \"별로예요\":\n",
    "         DF.loc[i,\"Num_Star\"] = 2\n",
    "    else :\n",
    "        DF.loc[i,\"Num_Star\"] = 1\n",
    "        "
   ]
  },
  {
   "cell_type": "code",
   "execution_count": 29,
   "metadata": {
    "id": "bg1U1kbVAbLL",
    "outputId": "fcb18706-2c64-47f8-edc6-670d1c917cff"
   },
   "outputs": [
    {
     "data": {
      "text/html": [
       "<div>\n",
       "<style scoped>\n",
       "    .dataframe tbody tr th:only-of-type {\n",
       "        vertical-align: middle;\n",
       "    }\n",
       "\n",
       "    .dataframe tbody tr th {\n",
       "        vertical-align: top;\n",
       "    }\n",
       "\n",
       "    .dataframe thead th {\n",
       "        text-align: right;\n",
       "    }\n",
       "</style>\n",
       "<table border=\"1\" class=\"dataframe\">\n",
       "  <thead>\n",
       "    <tr style=\"text-align: right;\">\n",
       "      <th></th>\n",
       "      <th>Comment</th>\n",
       "      <th>Date</th>\n",
       "      <th>Star</th>\n",
       "      <th>Strong</th>\n",
       "      <th>Y-M</th>\n",
       "      <th>Num_Star</th>\n",
       "    </tr>\n",
       "  </thead>\n",
       "  <tbody>\n",
       "    <tr>\n",
       "      <th>70</th>\n",
       "      <td>좋아요. 예쁘고 음질좋네요.잘 흘께요.</td>\n",
       "      <td>2020-03-17</td>\n",
       "      <td>적극추천</td>\n",
       "      <td>최고예요</td>\n",
       "      <td>2020-03</td>\n",
       "      <td>5</td>\n",
       "    </tr>\n",
       "    <tr>\n",
       "      <th>71</th>\n",
       "      <td></td>\n",
       "      <td>2020-03-16</td>\n",
       "      <td>적극추천</td>\n",
       "      <td>최고예요</td>\n",
       "      <td>2020-03</td>\n",
       "      <td>5</td>\n",
       "    </tr>\n",
       "    <tr>\n",
       "      <th>72</th>\n",
       "      <td></td>\n",
       "      <td>2020-03-16</td>\n",
       "      <td>적극추천</td>\n",
       "      <td>최고예요</td>\n",
       "      <td>2020-03</td>\n",
       "      <td>5</td>\n",
       "    </tr>\n",
       "    <tr>\n",
       "      <th>73</th>\n",
       "      <td></td>\n",
       "      <td>2020-03-15</td>\n",
       "      <td>적극추천</td>\n",
       "      <td>최고예요</td>\n",
       "      <td>2020-03</td>\n",
       "      <td>5</td>\n",
       "    </tr>\n",
       "    <tr>\n",
       "      <th>74</th>\n",
       "      <td></td>\n",
       "      <td>2020-03-15</td>\n",
       "      <td>적극추천</td>\n",
       "      <td>최고예요</td>\n",
       "      <td>2020-03</td>\n",
       "      <td>5</td>\n",
       "    </tr>\n",
       "    <tr>\n",
       "      <th>...</th>\n",
       "      <td>...</td>\n",
       "      <td>...</td>\n",
       "      <td>...</td>\n",
       "      <td>...</td>\n",
       "      <td>...</td>\n",
       "      <td>...</td>\n",
       "    </tr>\n",
       "    <tr>\n",
       "      <th>165</th>\n",
       "      <td>블루투스 무선이어폰 많이들 사용하던데 없어서 써보고싶어서 구매하게되었습니다. 스마트...</td>\n",
       "      <td>2020-02-11</td>\n",
       "      <td>적극추천</td>\n",
       "      <td>최고예요</td>\n",
       "      <td>2020-02</td>\n",
       "      <td>5</td>\n",
       "    </tr>\n",
       "    <tr>\n",
       "      <th>166</th>\n",
       "      <td>배송도 빠르고 너무 좋아요</td>\n",
       "      <td>2020-02-11</td>\n",
       "      <td>적극추천</td>\n",
       "      <td>최고예요</td>\n",
       "      <td>2020-02</td>\n",
       "      <td>5</td>\n",
       "    </tr>\n",
       "    <tr>\n",
       "      <th>167</th>\n",
       "      <td></td>\n",
       "      <td>2020-02-11</td>\n",
       "      <td>적극추천</td>\n",
       "      <td>최고예요</td>\n",
       "      <td>2020-02</td>\n",
       "      <td>5</td>\n",
       "    </tr>\n",
       "    <tr>\n",
       "      <th>168</th>\n",
       "      <td>왜 이제서야 샀나 싶어용~^^</td>\n",
       "      <td>2020-02-10</td>\n",
       "      <td>적극추천</td>\n",
       "      <td>최고예요</td>\n",
       "      <td>2020-02</td>\n",
       "      <td>5</td>\n",
       "    </tr>\n",
       "    <tr>\n",
       "      <th>169</th>\n",
       "      <td>정품이라 안심하고 구매할 수 있었습니다.</td>\n",
       "      <td>2020-02-10</td>\n",
       "      <td>적극추천</td>\n",
       "      <td>최고예요</td>\n",
       "      <td>2020-02</td>\n",
       "      <td>5</td>\n",
       "    </tr>\n",
       "  </tbody>\n",
       "</table>\n",
       "<p>100 rows × 6 columns</p>\n",
       "</div>"
      ],
      "text/plain": [
       "                                               Comment        Date  Star  \\\n",
       "70                               좋아요. 예쁘고 음질좋네요.잘 흘께요.  2020-03-17  적극추천   \n",
       "71                                                      2020-03-16  적극추천   \n",
       "72                                                      2020-03-16  적극추천   \n",
       "73                                                      2020-03-15  적극추천   \n",
       "74                                                      2020-03-15  적극추천   \n",
       "..                                                 ...         ...   ...   \n",
       "165  블루투스 무선이어폰 많이들 사용하던데 없어서 써보고싶어서 구매하게되었습니다. 스마트...  2020-02-11  적극추천   \n",
       "166                                     배송도 빠르고 너무 좋아요  2020-02-11  적극추천   \n",
       "167                                                     2020-02-11  적극추천   \n",
       "168                                   왜 이제서야 샀나 싶어용~^^  2020-02-10  적극추천   \n",
       "169                             정품이라 안심하고 구매할 수 있었습니다.  2020-02-10  적극추천   \n",
       "\n",
       "    Strong      Y-M Num_Star  \n",
       "70    최고예요  2020-03        5  \n",
       "71    최고예요  2020-03        5  \n",
       "72    최고예요  2020-03        5  \n",
       "73    최고예요  2020-03        5  \n",
       "74    최고예요  2020-03        5  \n",
       "..     ...      ...      ...  \n",
       "165   최고예요  2020-02        5  \n",
       "166   최고예요  2020-02        5  \n",
       "167   최고예요  2020-02        5  \n",
       "168   최고예요  2020-02        5  \n",
       "169   최고예요  2020-02        5  \n",
       "\n",
       "[100 rows x 6 columns]"
      ]
     },
     "execution_count": 29,
     "metadata": {},
     "output_type": "execute_result"
    }
   ],
   "source": [
    "DF[70:170]"
   ]
  },
  {
   "cell_type": "code",
   "execution_count": null,
   "metadata": {},
   "outputs": [],
   "source": [
    "DF.to_csv(\"C:\\\\dev\\\\Budz_11st.csv\", encoding=\"cp949\")"
   ]
  },
  {
   "cell_type": "code",
   "execution_count": null,
   "metadata": {
    "id": "iF5A8y6YAbLM"
   },
   "outputs": [],
   "source": []
  },
  {
   "cell_type": "markdown",
   "metadata": {
    "id": "RJhi7CMOAbLM"
   },
   "source": [
    "# 11번가 Airpot 후기 크롤링\n"
   ]
  },
  {
   "cell_type": "code",
   "execution_count": 31,
   "metadata": {
    "id": "MJjD3wqpAbLM",
    "outputId": "97a06409-c0a7-441a-94dc-24bd0744e761"
   },
   "outputs": [
    {
     "data": {
      "text/plain": [
       "'7495'"
      ]
     },
     "execution_count": 31,
     "metadata": {},
     "output_type": "execute_result"
    }
   ],
   "source": [
    "# 전체 후기 개수 뽑아오기 위한 URL\n",
    "URL_1 = \"http://www.11st.co.kr/browsing/PreviewPop.tmall?method=getPreviewPop&prdNo=2383161019&reviewTab=Y\"\n",
    "res = requests.get(URL_1)     \n",
    "soup = bs(res.text,'html.parser')\n",
    "count_1= soup.find_all(\"ul\")[0].find('span').text.replace(\"(\",\"\")\n",
    "count = count_1.replace(\")\",\"\")\n",
    "count"
   ]
  },
  {
   "cell_type": "code",
   "execution_count": 32,
   "metadata": {
    "id": "Np8M6ZRKAbLN",
    "outputId": "f89585c4-70c0-432d-8ebe-84d089de05f8"
   },
   "outputs": [
    {
     "data": {
      "text/plain": [
       "76"
      ]
     },
     "execution_count": 32,
     "metadata": {},
     "output_type": "execute_result"
    }
   ],
   "source": [
    "CntPage = int(count) // 100\n",
    "CntPage = CntPage +2\n",
    "CntPage"
   ]
  },
  {
   "cell_type": "code",
   "execution_count": 33,
   "metadata": {
    "id": "qiTWNN8tAbLN",
    "outputId": "36da37f0-dc0a-464e-96b7-6c4685071778"
   },
   "outputs": [
    {
     "data": {
      "text/html": [
       "<div>\n",
       "<style scoped>\n",
       "    .dataframe tbody tr th:only-of-type {\n",
       "        vertical-align: middle;\n",
       "    }\n",
       "\n",
       "    .dataframe tbody tr th {\n",
       "        vertical-align: top;\n",
       "    }\n",
       "\n",
       "    .dataframe thead th {\n",
       "        text-align: right;\n",
       "    }\n",
       "</style>\n",
       "<table border=\"1\" class=\"dataframe\">\n",
       "  <thead>\n",
       "    <tr style=\"text-align: right;\">\n",
       "      <th></th>\n",
       "      <th>Star</th>\n",
       "      <th>Strong</th>\n",
       "      <th>Comment</th>\n",
       "      <th>Date</th>\n",
       "      <th>Y-M</th>\n",
       "    </tr>\n",
       "  </thead>\n",
       "  <tbody>\n",
       "    <tr>\n",
       "      <th>0</th>\n",
       "      <td>적극추천</td>\n",
       "      <td>최고예요</td>\n",
       "      <td>빠른배송 감사합니다 좋아요 많이파세요</td>\n",
       "      <td>2021-06-21</td>\n",
       "      <td>2021-06</td>\n",
       "    </tr>\n",
       "    <tr>\n",
       "      <th>1</th>\n",
       "      <td>적극추천</td>\n",
       "      <td>최고예요</td>\n",
       "      <td>제조일자도 최신이고 깔끔한 포장 상태로 잘 왔어요. 감사합니다.</td>\n",
       "      <td>2021-06-18</td>\n",
       "      <td>2021-06</td>\n",
       "    </tr>\n",
       "    <tr>\n",
       "      <th>2</th>\n",
       "      <td>적극추천</td>\n",
       "      <td>최고예요</td>\n",
       "      <td>배송이.조금 느리긴 했지만 최저가로 잘 샀네요</td>\n",
       "      <td>2021-06-17</td>\n",
       "      <td>2021-06</td>\n",
       "    </tr>\n",
       "    <tr>\n",
       "      <th>3</th>\n",
       "      <td>적극추천</td>\n",
       "      <td>최고예요</td>\n",
       "      <td>배송은 이틀 기존 아이폰에 삼성 이어폰 썼는데 고장나서 바로 갈아탔네요ㅎ 머 말이 ...</td>\n",
       "      <td>2021-06-17</td>\n",
       "      <td>2021-06</td>\n",
       "    </tr>\n",
       "    <tr>\n",
       "      <th>4</th>\n",
       "      <td>추천</td>\n",
       "      <td>좋아요</td>\n",
       "      <td>선물용이라 개봉하지 않아서 아직 잘 모르겠지만 이상 없겠죠 ㅋㅋ참고로 21년 1월 ...</td>\n",
       "      <td>2021-06-17</td>\n",
       "      <td>2021-06</td>\n",
       "    </tr>\n",
       "    <tr>\n",
       "      <th>...</th>\n",
       "      <td>...</td>\n",
       "      <td>...</td>\n",
       "      <td>...</td>\n",
       "      <td>...</td>\n",
       "      <td>...</td>\n",
       "    </tr>\n",
       "    <tr>\n",
       "      <th>7487</th>\n",
       "      <td>적극추천</td>\n",
       "      <td>최고예요</td>\n",
       "      <td>잘받았어요</td>\n",
       "      <td>2019-04-20</td>\n",
       "      <td>2019-04</td>\n",
       "    </tr>\n",
       "    <tr>\n",
       "      <th>7488</th>\n",
       "      <td>적극추천</td>\n",
       "      <td>최고예요</td>\n",
       "      <td>네이버에서 시켰다가 한달기다리다 취소 후에 여기서 시켰는데 금요일에 주문해서 토요일...</td>\n",
       "      <td>2019-04-20</td>\n",
       "      <td>2019-04</td>\n",
       "    </tr>\n",
       "    <tr>\n",
       "      <th>7489</th>\n",
       "      <td>적극추천</td>\n",
       "      <td>최고예요</td>\n",
       "      <td>1쓰다가 2로 바꾸려고했는데 때마침 11번가에서 물량풀려서 바로 주문했습니다음질도 ...</td>\n",
       "      <td>2019-04-20</td>\n",
       "      <td>2019-04</td>\n",
       "    </tr>\n",
       "    <tr>\n",
       "      <th>7490</th>\n",
       "      <td>적극추천</td>\n",
       "      <td>최고예요</td>\n",
       "      <td>배송도 빨리오고  정품인증  구매한 날짜로 하니까 바로 되고요 ？청횬肩？ 잘 싸서 ...</td>\n",
       "      <td>2019-04-20</td>\n",
       "      <td>2019-04</td>\n",
       "    </tr>\n",
       "    <tr>\n",
       "      <th>7491</th>\n",
       "      <td>적극추천</td>\n",
       "      <td>최고예요</td>\n",
       "      <td>제품 주문하고 배송 엄청 빨리 받았네요.통화,음악 음질 최고에요.에어팟  비싸지만 ...</td>\n",
       "      <td>2019-04-20</td>\n",
       "      <td>2019-04</td>\n",
       "    </tr>\n",
       "  </tbody>\n",
       "</table>\n",
       "<p>7492 rows × 5 columns</p>\n",
       "</div>"
      ],
      "text/plain": [
       "      Star Strong                                            Comment  \\\n",
       "0     적극추천   최고예요                               빠른배송 감사합니다 좋아요 많이파세요   \n",
       "1     적극추천   최고예요                제조일자도 최신이고 깔끔한 포장 상태로 잘 왔어요. 감사합니다.   \n",
       "2     적극추천   최고예요                          배송이.조금 느리긴 했지만 최저가로 잘 샀네요   \n",
       "3     적극추천   최고예요  배송은 이틀 기존 아이폰에 삼성 이어폰 썼는데 고장나서 바로 갈아탔네요ㅎ 머 말이 ...   \n",
       "4       추천    좋아요  선물용이라 개봉하지 않아서 아직 잘 모르겠지만 이상 없겠죠 ㅋㅋ참고로 21년 1월 ...   \n",
       "...    ...    ...                                                ...   \n",
       "7487  적극추천   최고예요                                              잘받았어요   \n",
       "7488  적극추천   최고예요  네이버에서 시켰다가 한달기다리다 취소 후에 여기서 시켰는데 금요일에 주문해서 토요일...   \n",
       "7489  적극추천   최고예요  1쓰다가 2로 바꾸려고했는데 때마침 11번가에서 물량풀려서 바로 주문했습니다음질도 ...   \n",
       "7490  적극추천   최고예요  배송도 빨리오고  정품인증  구매한 날짜로 하니까 바로 되고요 ？청횬肩？ 잘 싸서 ...   \n",
       "7491  적극추천   최고예요  제품 주문하고 배송 엄청 빨리 받았네요.통화,음악 음질 최고에요.에어팟  비싸지만 ...   \n",
       "\n",
       "            Date      Y-M  \n",
       "0     2021-06-21  2021-06  \n",
       "1     2021-06-18  2021-06  \n",
       "2     2021-06-17  2021-06  \n",
       "3     2021-06-17  2021-06  \n",
       "4     2021-06-17  2021-06  \n",
       "...          ...      ...  \n",
       "7487  2019-04-20  2019-04  \n",
       "7488  2019-04-20  2019-04  \n",
       "7489  2019-04-20  2019-04  \n",
       "7490  2019-04-20  2019-04  \n",
       "7491  2019-04-20  2019-04  \n",
       "\n",
       "[7492 rows x 5 columns]"
      ]
     },
     "execution_count": 33,
     "metadata": {},
     "output_type": "execute_result"
    }
   ],
   "source": [
    "AF = pd.DataFrame()\n",
    "\n",
    "AAF = pd.DataFrame()\n",
    "AAF = AAF.append({\"Star\":\"\", \"Strong\":\"\",\"Comment\":\"\",\"Date\":\"\",\"Y-M\":\"\"},ignore_index=True)\n",
    "\n",
    "\n",
    "\n",
    "col1 = AAF.columns.get_loc(\"Star\")\n",
    "col2 = AAF.columns.get_loc(\"Strong\")\n",
    "col3 = AAF.columns.get_loc(\"Comment\")\n",
    "col4 = AAF.columns.get_loc(\"Date\")\n",
    "col5 = AAF.columns.get_loc(\"Y-M\")\n",
    "\n",
    "\n",
    "for p in range(1,CntPage):\n",
    "    # 페이지 마다 URL 생성\n",
    "    URL = \"http://www.11st.co.kr/browsing/OpenContReviewAction.tmall?method=getProductReviewList&prdNo=2383161019\"\n",
    "    page = \"&page=\" + str(p)\n",
    "    page_s = \"&pageSize=100\"\n",
    "    URL_2 = URL + page + page_s\n",
    "    res = requests.get(URL_2)     \n",
    "    soup = bs(res.text,'html.parser')\n",
    "    \n",
    "    num = len(soup.find(\"tbody\").find_all(\"tr\",attrs={'class': None}))\n",
    "    for i in range(0,num):\n",
    "        var = soup.find(\"tbody\").find_all(\"tr\",attrs={'class': None})[i].find(\"span\",class_=\"date\")\n",
    "        AAF.iat[0,col1] = soup.find(\"tbody\").find_all(\"tr\",attrs={'class': None})[i].find(\"span\").text.strip()\n",
    "        \n",
    "        AAF.iat[0,col2] = soup.find(\"tbody\").find_all(\"tr\",attrs={'class': None})[i].find(\"strong\").text  \n",
    "        \n",
    "        if len(soup.find(\"tbody\").find_all(\"tr\",attrs={'class': None})[i].find_all(\"a\")) == 2 :\n",
    "            AAF.iat[0,col3] = soup.find(\"tbody\").find_all(\"tr\",attrs={'class': None})[i].find_all(\"a\")[1].text.strip()\n",
    "        else:\n",
    "            AAF.iat[0,col3] = soup.find(\"tbody\").find_all(\"tr\",attrs={'class': None})[i].find_all(\"a\")[0].text.strip()\n",
    "\n",
    "            \n",
    "        if var is None :\n",
    "            AAF.iat[0,col4] = \"  \"\n",
    "            AAF.iat[0,col5] = \"\"\n",
    "        else : \n",
    "            AAF.iat[0,col4] = var.text\n",
    "            AAF.iat[0,col5] = (soup.find(\"tbody\").find_all(\"tr\",attrs={'class': None})[i].find(\"span\",class_=\"date\")).text[0:7]\n",
    "\n",
    "        AF = AF.append(AAF,ignore_index=True)\n",
    "\n",
    "\n",
    "        for j in range(0,len(AAF.columns)):\n",
    "                           AAF.iat[0,j] = \"\"\n",
    "    \n",
    "\n",
    "\n",
    "AF[[\"Star\",\"Strong\",\"Comment\",\"Date\",\"Y-M\"]]\n"
   ]
  },
  {
   "cell_type": "code",
   "execution_count": 34,
   "metadata": {
    "id": "gAAGw0EvAbLO"
   },
   "outputs": [],
   "source": [
    "AF[\"Num_Star\"] = \"\"\n",
    "\n",
    "for i in range(0,len(AF)) :\n",
    "    if AF.loc[i,\"Strong\"] == \"최고예요\":\n",
    "        AF.loc[i,\"Num_Star\"]= 5\n",
    "        \n",
    "    elif AF.loc[i,\"Strong\"] == \"좋아요\" :\n",
    "        AF.loc[i,\"Num_Star\"] = 4\n",
    "        \n",
    "    elif AF.loc[i,\"Strong\"] == \"보통이에요\":\n",
    "         AF.loc[i,\"Num_Star\"] = 3\n",
    "            \n",
    "    elif AF.loc[i,\"Strong\"] == \"별로예요\":\n",
    "         AF.loc[i,\"Num_Star\"] = 2\n",
    "    else :\n",
    "        AF.loc[i,\"Num_Star\"] = 1"
   ]
  },
  {
   "cell_type": "code",
   "execution_count": null,
   "metadata": {
    "id": "0sTVGyFcAbLO",
    "outputId": "8f9cf36f-111b-4ac9-ab59-a95507ab7674"
   },
   "outputs": [],
   "source": [
    "AF.tail()"
   ]
  },
  {
   "cell_type": "code",
   "execution_count": null,
   "metadata": {
    "id": "AjFln6xgAbLO"
   },
   "outputs": [],
   "source": [
    "AF.to_csv(\"C:\\\\dev\\\\Airpot-2_11st.csv\", encoding=\"cp949\")"
   ]
  },
  {
   "cell_type": "code",
   "execution_count": 35,
   "metadata": {
    "id": "nznXAFG_AbLP"
   },
   "outputs": [],
   "source": [
    "AF[\"Num_Star\"]=pd.to_numeric(AF['Num_Star'])"
   ]
  },
  {
   "cell_type": "code",
   "execution_count": 36,
   "metadata": {
    "id": "VYEInsOYAbLP"
   },
   "outputs": [],
   "source": [
    "AF[\"Y-M\"].value_counts()\n",
    "grouped =  AF[\"Num_Star\"].groupby(AF[\"Y-M\"])\n",
    "AS =grouped.mean() "
   ]
  },
  {
   "cell_type": "code",
   "execution_count": 37,
   "metadata": {
    "id": "9Hkyqjz1AbLP"
   },
   "outputs": [],
   "source": [
    "AFS = pd.DataFrame()\n",
    "AFS[\"mean\"] = AS\n",
    "AFS[\"count\"] = AF[\"Y-M\"].value_counts()\n",
    "AFS.drop(AFS[AFS[\"mean\"]==4.0].index,inplace=True)"
   ]
  },
  {
   "cell_type": "code",
   "execution_count": null,
   "metadata": {
    "id": "SPMIasXsAbLP",
    "outputId": "2537a792-ea42-4570-fae1-f9be3fb4e202"
   },
   "outputs": [],
   "source": [
    "AFS"
   ]
  },
  {
   "cell_type": "code",
   "execution_count": 38,
   "metadata": {
    "id": "APbw1HCVAbLQ",
    "outputId": "ce4f5d36-cf7d-444a-daa1-90d72148c664",
    "scrolled": false
   },
   "outputs": [
    {
     "data": {
      "image/png": "[encoded data removed]",
      "text/plain": [
       "<Figure size 1296x720 with 2 Axes>"
      ]
     },
     "metadata": {
      "needs_background": "light"
     },
     "output_type": "display_data"
    }
   ],
   "source": [
    "\n",
    "x=AFS.index\n",
    "y1 = AFS[\"mean\"]\n",
    "y2 = AFS[\"count\"]\n",
    "\n",
    "fig, ax1 = plt.subplots()\n",
    "fig.set_size_inches(18,10)\n",
    "\n",
    "ax2 = ax1.twinx()\n",
    "ax1.bar(x, y1,color= \"#b1eeff\" ,alpha=0.5)\n",
    "ax1.set_ylim(4.5,5)\n",
    "ax2.plot(x, y2, '#ffb92d',linewidth = 4)\n",
    "\n",
    "ax1.set_ylabel('별점 평균', color='#6495ED' , fontsize = 23)\n",
    "ax2.set_ylabel('등록 리뷰 수', color='#ffb92d',fontsize = 23)\n",
    "\n",
    "\n",
    "plt.title('Airpot--월별 별점 평균 & 후기 등록 수',fontdict =title_font,loc='center', pad=30)\n",
    "\n",
    "title_font = {\n",
    "    'fontsize': 25,\n",
    "    'fontweight': 'bold'\n",
    "}\n",
    "\n",
    "plt.show()"
   ]
  },
  {
   "cell_type": "code",
   "execution_count": 39,
   "metadata": {
    "id": "h2vN26GLAbLQ"
   },
   "outputs": [],
   "source": [
    "DF[\"Num_Star\"]=pd.to_numeric(DF['Num_Star'])\n",
    "DF[\"Y-M\"].value_counts()\n",
    "grouped =  DF[\"Num_Star\"].groupby(DF[\"Y-M\"])\n",
    "BS =grouped.mean() \n",
    "BFS = pd.DataFrame()\n",
    "BFS[\"mean\"] = BS\n",
    "BFS[\"count\"] = DF[\"Y-M\"].value_counts()\n",
    "BFS.drop(BFS[BFS[\"mean\"]==4.0].index,inplace=True)"
   ]
  },
  {
   "cell_type": "code",
   "execution_count": null,
   "metadata": {
    "id": "QKHGHc6LAbLQ",
    "outputId": "e9bc9cc2-c0f9-4185-c3b9-7c1e3fe1cf10"
   },
   "outputs": [],
   "source": [
    "BFS"
   ]
  },
  {
   "cell_type": "code",
   "execution_count": 40,
   "metadata": {
    "id": "5F7pRHQSAbLQ",
    "outputId": "6cf562d7-2825-440c-e80c-601ad737e061"
   },
   "outputs": [
    {
     "data": {
      "image/png": "[encoded data removed]",
      "text/plain": [
       "<Figure size 1296x720 with 2 Axes>"
      ]
     },
     "metadata": {
      "needs_background": "light"
     },
     "output_type": "display_data"
    }
   ],
   "source": [
    "\n",
    "x=BFS.index\n",
    "y1 = BFS[\"mean\"]\n",
    "y2 = BFS[\"count\"]\n",
    "\n",
    "fig, ax1 = plt.subplots()\n",
    "fig.set_size_inches(18,10)\n",
    "\n",
    "ax2 = ax1.twinx()\n",
    "ax1.bar(x, y1,color= \"#ffbcb9\" ,alpha=0.5)\n",
    "ax1.set_ylim(4.5,5)\n",
    "ax2.plot(x, y2, '#ffb92d',linewidth = 4)\n",
    "\n",
    "ax1.set_ylabel('별점 평균', color= \"#ee3e61\", fontsize = 23)\n",
    "ax2.set_ylabel('등록 리뷰 수', color='#ffb92d',fontsize = 23)\n",
    "\n",
    "\n",
    "plt.title('Budz--월별 별점 평균 & 후기 등록 수',fontdict =title_font,loc='center', pad=30)\n",
    "\n",
    "title_font = {\n",
    "    'fontsize': 25,\n",
    "    'fontweight': 'bold'\n",
    "}\n",
    "\n",
    "plt.show()"
   ]
  },
  {
   "cell_type": "code",
   "execution_count": null,
   "metadata": {
    "id": "TMavkZYsAbLR",
    "outputId": "f5d77682-cb6c-4b0d-d085-2cce718ca469"
   },
   "outputs": [],
   "source": [
    "AFS.index[0:15]"
   ]
  },
  {
   "cell_type": "code",
   "execution_count": 41,
   "metadata": {
    "id": "ga4y84NSAbLR",
    "outputId": "1892d53b-1a21-443f-8fdb-dc12dc63218c"
   },
   "outputs": [
    {
     "data": {
      "text/html": [
       "<div>\n",
       "<style scoped>\n",
       "    .dataframe tbody tr th:only-of-type {\n",
       "        vertical-align: middle;\n",
       "    }\n",
       "\n",
       "    .dataframe tbody tr th {\n",
       "        vertical-align: top;\n",
       "    }\n",
       "\n",
       "    .dataframe thead th {\n",
       "        text-align: right;\n",
       "    }\n",
       "</style>\n",
       "<table border=\"1\" class=\"dataframe\">\n",
       "  <thead>\n",
       "    <tr style=\"text-align: right;\">\n",
       "      <th></th>\n",
       "      <th>key_0</th>\n",
       "      <th>mean_x</th>\n",
       "      <th>count_x</th>\n",
       "      <th>mean_y</th>\n",
       "      <th>count_y</th>\n",
       "    </tr>\n",
       "  </thead>\n",
       "  <tbody>\n",
       "    <tr>\n",
       "      <th>0</th>\n",
       "      <td>2019-04</td>\n",
       "      <td>4.852713</td>\n",
       "      <td>129</td>\n",
       "      <td>4.750000</td>\n",
       "      <td>72</td>\n",
       "    </tr>\n",
       "    <tr>\n",
       "      <th>1</th>\n",
       "      <td>2019-05</td>\n",
       "      <td>4.757576</td>\n",
       "      <td>528</td>\n",
       "      <td>4.743083</td>\n",
       "      <td>253</td>\n",
       "    </tr>\n",
       "    <tr>\n",
       "      <th>2</th>\n",
       "      <td>2019-06</td>\n",
       "      <td>4.746241</td>\n",
       "      <td>532</td>\n",
       "      <td>4.659574</td>\n",
       "      <td>94</td>\n",
       "    </tr>\n",
       "    <tr>\n",
       "      <th>3</th>\n",
       "      <td>2019-07</td>\n",
       "      <td>4.681818</td>\n",
       "      <td>396</td>\n",
       "      <td>4.717172</td>\n",
       "      <td>99</td>\n",
       "    </tr>\n",
       "    <tr>\n",
       "      <th>4</th>\n",
       "      <td>2019-08</td>\n",
       "      <td>4.694226</td>\n",
       "      <td>762</td>\n",
       "      <td>4.707317</td>\n",
       "      <td>205</td>\n",
       "    </tr>\n",
       "    <tr>\n",
       "      <th>5</th>\n",
       "      <td>2019-09</td>\n",
       "      <td>4.578853</td>\n",
       "      <td>558</td>\n",
       "      <td>4.714286</td>\n",
       "      <td>126</td>\n",
       "    </tr>\n",
       "    <tr>\n",
       "      <th>6</th>\n",
       "      <td>2019-10</td>\n",
       "      <td>4.675373</td>\n",
       "      <td>536</td>\n",
       "      <td>4.836879</td>\n",
       "      <td>141</td>\n",
       "    </tr>\n",
       "    <tr>\n",
       "      <th>7</th>\n",
       "      <td>2019-11</td>\n",
       "      <td>4.722222</td>\n",
       "      <td>558</td>\n",
       "      <td>4.669903</td>\n",
       "      <td>412</td>\n",
       "    </tr>\n",
       "    <tr>\n",
       "      <th>8</th>\n",
       "      <td>2019-12</td>\n",
       "      <td>4.702381</td>\n",
       "      <td>336</td>\n",
       "      <td>4.732558</td>\n",
       "      <td>258</td>\n",
       "    </tr>\n",
       "    <tr>\n",
       "      <th>9</th>\n",
       "      <td>2020-01</td>\n",
       "      <td>4.634361</td>\n",
       "      <td>227</td>\n",
       "      <td>4.797386</td>\n",
       "      <td>153</td>\n",
       "    </tr>\n",
       "    <tr>\n",
       "      <th>10</th>\n",
       "      <td>2020-02</td>\n",
       "      <td>4.722222</td>\n",
       "      <td>378</td>\n",
       "      <td>4.767241</td>\n",
       "      <td>116</td>\n",
       "    </tr>\n",
       "    <tr>\n",
       "      <th>11</th>\n",
       "      <td>2020-03</td>\n",
       "      <td>4.754522</td>\n",
       "      <td>387</td>\n",
       "      <td>4.824561</td>\n",
       "      <td>57</td>\n",
       "    </tr>\n",
       "    <tr>\n",
       "      <th>12</th>\n",
       "      <td>2020-04</td>\n",
       "      <td>4.789773</td>\n",
       "      <td>176</td>\n",
       "      <td>4.714286</td>\n",
       "      <td>28</td>\n",
       "    </tr>\n",
       "    <tr>\n",
       "      <th>13</th>\n",
       "      <td>2020-05</td>\n",
       "      <td>4.712121</td>\n",
       "      <td>198</td>\n",
       "      <td>4.500000</td>\n",
       "      <td>10</td>\n",
       "    </tr>\n",
       "  </tbody>\n",
       "</table>\n",
       "</div>"
      ],
      "text/plain": [
       "      key_0    mean_x  count_x    mean_y  count_y\n",
       "0   2019-04  4.852713      129  4.750000       72\n",
       "1   2019-05  4.757576      528  4.743083      253\n",
       "2   2019-06  4.746241      532  4.659574       94\n",
       "3   2019-07  4.681818      396  4.717172       99\n",
       "4   2019-08  4.694226      762  4.707317      205\n",
       "5   2019-09  4.578853      558  4.714286      126\n",
       "6   2019-10  4.675373      536  4.836879      141\n",
       "7   2019-11  4.722222      558  4.669903      412\n",
       "8   2019-12  4.702381      336  4.732558      258\n",
       "9   2020-01  4.634361      227  4.797386      153\n",
       "10  2020-02  4.722222      378  4.767241      116\n",
       "11  2020-03  4.754522      387  4.824561       57\n",
       "12  2020-04  4.789773      176  4.714286       28\n",
       "13  2020-05  4.712121      198  4.500000       10"
      ]
     },
     "execution_count": 41,
     "metadata": {},
     "output_type": "execute_result"
    }
   ],
   "source": [
    "AFS1=AFS[0:14]\n",
    "BFS1=BFS[1:15]\n",
    "result = pd.merge(AFS1,BFS1, on =AFS1.index)# x가 에어팟 y가 버즈\n",
    "result"
   ]
  },
  {
   "cell_type": "code",
   "execution_count": 42,
   "metadata": {
    "id": "AjLASejQAbLR",
    "outputId": "9fda15b7-2607-4d17-adf7-c68aea941b9e"
   },
   "outputs": [
    {
     "data": {
      "image/png": "[encoded data removed]",
      "text/plain": [
       "<Figure size 1296x576 with 1 Axes>"
      ]
     },
     "metadata": {
      "needs_background": "light"
     },
     "output_type": "display_data"
    }
   ],
   "source": [
    "label = result[\"key_0\"]\n",
    "x = np.arange(len(label))\n",
    "\n",
    "plt.figure(figsize=(18, 8))\n",
    "plt.bar(x,result[\"mean_x\"],label = \"에어팟\", width=0.5,color=\"#b1eeff\",alpha=0.4)\n",
    "plt.bar(x+0.3,result[\"mean_y\"],label = \"버즈\", width=0.5,color=\"#ffbcb9\",alpha=0.4)\n",
    "plt.xticks(x,label,rotation=60,fontsize=15)\n",
    "plt.yticks(fontsize=18)\n",
    "plt.legend(fontsize=20)\n",
    "plt.ylim(4.5,4.9)\n",
    "plt.title('월별 제품 후기 평균 점수 추이 비교',fontdict =title_font,loc='center', pad=30)\n",
    "\n",
    "title_font = {\n",
    "    'fontsize': 25,\n",
    "    'fontweight': 'bold'\n",
    "}\n",
    "\n",
    "plt.show()"
   ]
  },
  {
   "cell_type": "code",
   "execution_count": null,
   "metadata": {
    "id": "Z3Q7AuNlAbLS"
   },
   "outputs": [],
   "source": []
  },
  {
   "cell_type": "markdown",
   "metadata": {
    "id": "UCNZPqO6AbLS"
   },
   "source": [
    "# STEP 04) 그래프"
   ]
  },
  {
   "cell_type": "code",
   "execution_count": 43,
   "metadata": {
    "id": "Q1KtjBlFAbLS",
    "outputId": "0f620e2a-3cc2-4965-ffc1-7c885a1ad4d3"
   },
   "outputs": [
    {
     "name": "stderr",
     "output_type": "stream",
     "text": [
      "ERROR:lml.utils:failed to import pyecharts_snapshot\n",
      "Traceback (most recent call last):\n",
      "  File \"C:\\Users\\wjdgu\\anaconda3\\lib\\site-packages\\lml\\utils.py\", line 43, in do_import\n",
      "    plugin_module = __import__(plugin_module_name)\n",
      "ModuleNotFoundError: No module named 'pyecharts_snapshot'\n"
     ]
    },
    {
     "name": "stdout",
     "output_type": "stream",
     "text": [
      "pyecharts version :  0.5.11\n"
     ]
    }
   ],
   "source": [
    "import pyecharts\n",
    "print(\"pyecharts version : \", pyecharts.__version__)"
   ]
  },
  {
   "cell_type": "code",
   "execution_count": 44,
   "metadata": {
    "id": "U4YAju6hAbLS"
   },
   "outputs": [],
   "source": [
    "St5 = sum(DF[\"Num_Star\"] == 5) *(100/2059)\n",
    "St4 = sum(DF[\"Num_Star\"] == 4)*(100/2059)\n",
    "St3 = sum(DF[\"Num_Star\"] == 3)*(100/2059)\n",
    "St2 = sum(DF[\"Num_Star\"] == 2)*(100/2059)\n",
    "St1 = sum(DF[\"Num_Star\"] == 1)*(100/2059)\n",
    "BS = [St5, St4 , St3 , St2, St1]\n"
   ]
  },
  {
   "cell_type": "code",
   "execution_count": 45,
   "metadata": {
    "id": "2sk8_cp-AbLS",
    "outputId": "00968ea1-90b6-459e-c85f-34c7aabfc248"
   },
   "outputs": [
    {
     "name": "stdout",
     "output_type": "stream",
     "text": [
      "127.3499915009349\n"
     ]
    }
   ],
   "source": [
    "St5 = sum(AF[\"Num_Star\"] == 5) *(100/5883)\n",
    "St4 = sum(AF[\"Num_Star\"] == 4) *(100/5883)\n",
    "St3 = sum(AF[\"Num_Star\"] == 3) *(100/5883)\n",
    "St2 = sum(AF[\"Num_Star\"] == 2)*(100/5883)\n",
    "St1 = sum(AF[\"Num_Star\"] == 1)*(100/5883)\n",
    "num = St5 + St4 +  St3+ St2+ St1\n",
    "AS = [St5, St4 , St3 , St2, St1]\n",
    "print(num)"
   ]
  },
  {
   "cell_type": "code",
   "execution_count": 46,
   "metadata": {
    "id": "yPP7bV9HAbLT",
    "outputId": "fde18614-bd78-48cd-eca9-34823b1f702b"
   },
   "outputs": [
    {
     "data": {
      "text/html": [
       "<div>\n",
       "<style scoped>\n",
       "    .dataframe tbody tr th:only-of-type {\n",
       "        vertical-align: middle;\n",
       "    }\n",
       "\n",
       "    .dataframe tbody tr th {\n",
       "        vertical-align: top;\n",
       "    }\n",
       "\n",
       "    .dataframe thead th {\n",
       "        text-align: right;\n",
       "    }\n",
       "</style>\n",
       "<table border=\"1\" class=\"dataframe\">\n",
       "  <thead>\n",
       "    <tr style=\"text-align: right;\">\n",
       "      <th></th>\n",
       "      <th>Budz</th>\n",
       "      <th>Airpot-2</th>\n",
       "    </tr>\n",
       "  </thead>\n",
       "  <tbody>\n",
       "    <tr>\n",
       "      <th>5</th>\n",
       "      <td>79.553181</td>\n",
       "      <td>100.815910</td>\n",
       "    </tr>\n",
       "    <tr>\n",
       "      <th>4</th>\n",
       "      <td>16.318601</td>\n",
       "      <td>20.346762</td>\n",
       "    </tr>\n",
       "    <tr>\n",
       "      <th>3</th>\n",
       "      <td>2.719767</td>\n",
       "      <td>3.926568</td>\n",
       "    </tr>\n",
       "    <tr>\n",
       "      <th>2</th>\n",
       "      <td>0.534240</td>\n",
       "      <td>0.866905</td>\n",
       "    </tr>\n",
       "    <tr>\n",
       "      <th>1</th>\n",
       "      <td>0.874211</td>\n",
       "      <td>1.393847</td>\n",
       "    </tr>\n",
       "  </tbody>\n",
       "</table>\n",
       "</div>"
      ],
      "text/plain": [
       "        Budz    Airpot-2\n",
       "5  79.553181  100.815910\n",
       "4  16.318601   20.346762\n",
       "3   2.719767    3.926568\n",
       "2   0.534240    0.866905\n",
       "1   0.874211    1.393847"
      ]
     },
     "execution_count": 46,
     "metadata": {},
     "output_type": "execute_result"
    }
   ],
   "source": [
    "SF = pd.DataFrame({'Budz':BS, 'Airpot-2':AS},\n",
    "                   index = ['5','4','3','2','1'])\n",
    "SF"
   ]
  },
  {
   "cell_type": "code",
   "execution_count": null,
   "metadata": {
    "id": "UrW4bJ8rAbLT",
    "outputId": "117ef551-fce0-4fe5-c5be-bbfa754af44c"
   },
   "outputs": [],
   "source": [
    "SF.info()"
   ]
  },
  {
   "cell_type": "code",
   "execution_count": 47,
   "metadata": {
    "id": "euWZk5h4AbLT",
    "outputId": "2d5005d6-6475-401f-dc52-f640c1796815"
   },
   "outputs": [
    {
     "data": {
      "image/png": "[encoded data removed]",
      "text/plain": [
       "<Figure size 1080x360 with 1 Axes>"
      ]
     },
     "metadata": {
      "needs_background": "light"
     },
     "output_type": "display_data"
    }
   ],
   "source": [
    "font_name = mpl.font_manager.FontProperties(fname = 'C:/Windows/Fonts/malgun.ttf').get_name()\n",
    "mpl.rc('font',family=font_name)\n",
    "ax = SF.plot(kind='bar', figsize=(15, 5), legend=True, fontsize=12, color = [\"#ffbcb9\",\"#b1eeff\"],alpha=0.5)\n",
    "ax.legend(['Budz', 'Airpot-2'], fontsize=15) \n",
    "\n",
    "ax.set_xlabel(\"**별점***\", fontsize=15)          # x축 정보 표시\n",
    "ax.set_ylabel('해당 별점 리뷰 수 (비율 %)', fontsize=15) \n",
    "\n",
    "plt.title('Budz & Airpot-2 별점 별 비율',  fontdict =title_font,loc='center', pad=30)\n",
    "title_font = {\n",
    "    'fontsize': 25,\n",
    "    'fontweight': 'bold'\n",
    "}"
   ]
  },
  {
   "cell_type": "code",
   "execution_count": 48,
   "metadata": {},
   "outputs": [],
   "source": [
    "from pyecharts import Pie,Style\n",
    "pie = Pie(\"별점 비교 : Budz vs Airpot-2\", title_pos=\"center\", width=900)\n",
    "style = Style()\n",
    "pie_style = style.add(\n",
    "    label_pos=\"center\",\n",
    "    is_label_show=True,\n",
    "    label_text_color=None\n",
    ")\n",
    "attr = ['별5','별4','별3','별2','별1']\n",
    "v1 = [1639, 335, 56, 11, 18]\n",
    "v2 = [4636, 934, 187, 42, 74]\n"
   ]
  },
  {
   "cell_type": "code",
   "execution_count": 49,
   "metadata": {
    "id": "tpBjiIosAbLU"
   },
   "outputs": [
    {
     "data": {
      "text/html": [
       "<script>\n",
       "    require.config({\n",
       "        paths: {\n",
       "            'echarts': '/nbextensions/echarts/echarts.min'\n",
       "        }\n",
       "    });\n",
       "</script>\n",
       "    <div id=\"1bb6bbe89a4045a5997349d41e120c14\" style=\"width:900px;height:400px;\"></div>\n",
       "\n",
       "\n",
       "<script>\n",
       "    require(['echarts'], function(echarts) {\n",
       "        \n",
       "var myChart_1bb6bbe89a4045a5997349d41e120c14 = echarts.init(document.getElementById('1bb6bbe89a4045a5997349d41e120c14'), 'light', {renderer: 'canvas'});\n",
       "\n",
       "var option_1bb6bbe89a4045a5997349d41e120c14 = {\n",
       "    \"title\": [\n",
       "        {\n",
       "            \"text\": \"\\ubcc4\\uc810 \\ube44\\uad50 : Budz vs Airpot-2\",\n",
       "            \"left\": \"center\",\n",
       "            \"top\": \"auto\",\n",
       "            \"textStyle\": {\n",
       "                \"fontSize\": 18\n",
       "            },\n",
       "            \"subtextStyle\": {\n",
       "                \"fontSize\": 12\n",
       "            }\n",
       "        }\n",
       "    ],\n",
       "    \"toolbox\": {\n",
       "        \"show\": true,\n",
       "        \"orient\": \"vertical\",\n",
       "        \"left\": \"95%\",\n",
       "        \"top\": \"center\",\n",
       "        \"feature\": {\n",
       "            \"saveAsImage\": {\n",
       "                \"show\": true,\n",
       "                \"title\": \"save as image\"\n",
       "            },\n",
       "            \"restore\": {\n",
       "                \"show\": true,\n",
       "                \"title\": \"restore\"\n",
       "            },\n",
       "            \"dataView\": {\n",
       "                \"show\": true,\n",
       "                \"title\": \"data view\"\n",
       "            }\n",
       "        }\n",
       "    },\n",
       "    \"series_id\": 2026823,\n",
       "    \"tooltip\": {\n",
       "        \"trigger\": \"item\",\n",
       "        \"triggerOn\": \"mousemove|click\",\n",
       "        \"axisPointer\": {\n",
       "            \"type\": \"line\"\n",
       "        },\n",
       "        \"textStyle\": {\n",
       "            \"fontSize\": 14\n",
       "        },\n",
       "        \"backgroundColor\": \"rgba(50,50,50,0.7)\",\n",
       "        \"borderColor\": \"#333\",\n",
       "        \"borderWidth\": 0\n",
       "    },\n",
       "    \"series\": [\n",
       "        {\n",
       "            \"type\": \"pie\",\n",
       "            \"name\": \"Budz\",\n",
       "            \"data\": [\n",
       "                {\n",
       "                    \"name\": \"\\ubcc45\",\n",
       "                    \"value\": 1639\n",
       "                },\n",
       "                {\n",
       "                    \"name\": \"\\ubcc44\",\n",
       "                    \"value\": 335\n",
       "                },\n",
       "                {\n",
       "                    \"name\": \"\\ubcc43\",\n",
       "                    \"value\": 56\n",
       "                },\n",
       "                {\n",
       "                    \"name\": \"\\ubcc42\",\n",
       "                    \"value\": 11\n",
       "                },\n",
       "                {\n",
       "                    \"name\": \"\\ubcc41\",\n",
       "                    \"value\": 18\n",
       "                }\n",
       "            ],\n",
       "            \"radius\": [\n",
       "                \"25%\",\n",
       "                \"60%\"\n",
       "            ],\n",
       "            \"center\": [\n",
       "                \"25%\",\n",
       "                \"50%\"\n",
       "            ],\n",
       "            \"roseType\": \"radius\",\n",
       "            \"label\": {\n",
       "                \"normal\": {\n",
       "                    \"show\": true,\n",
       "                    \"position\": \"outside\",\n",
       "                    \"textStyle\": {\n",
       "                        \"fontSize\": 12\n",
       "                    },\n",
       "                    \"formatter\": \"{b}: {d}%\"\n",
       "                },\n",
       "                \"emphasis\": {\n",
       "                    \"show\": true,\n",
       "                    \"textStyle\": {\n",
       "                        \"fontSize\": 12\n",
       "                    },\n",
       "                    \"formatter\": \"{b}: {d}%\"\n",
       "                }\n",
       "            },\n",
       "            \"seriesId\": 2026823\n",
       "        },\n",
       "        {\n",
       "            \"type\": \"pie\",\n",
       "            \"name\": \"Airpot-2\",\n",
       "            \"data\": [\n",
       "                {\n",
       "                    \"name\": \"\\ubcc45\",\n",
       "                    \"value\": 4636\n",
       "                },\n",
       "                {\n",
       "                    \"name\": \"\\ubcc44\",\n",
       "                    \"value\": 934\n",
       "                },\n",
       "                {\n",
       "                    \"name\": \"\\ubcc43\",\n",
       "                    \"value\": 187\n",
       "                },\n",
       "                {\n",
       "                    \"name\": \"\\ubcc42\",\n",
       "                    \"value\": 42\n",
       "                },\n",
       "                {\n",
       "                    \"name\": \"\\ubcc41\",\n",
       "                    \"value\": 74\n",
       "                }\n",
       "            ],\n",
       "            \"radius\": [\n",
       "                \"25%\",\n",
       "                \"60%\"\n",
       "            ],\n",
       "            \"center\": [\n",
       "                \"75%\",\n",
       "                \"50%\"\n",
       "            ],\n",
       "            \"roseType\": \"radius\",\n",
       "            \"label\": {\n",
       "                \"normal\": {\n",
       "                    \"show\": true,\n",
       "                    \"position\": \"outside\",\n",
       "                    \"textStyle\": {\n",
       "                        \"fontSize\": 12\n",
       "                    },\n",
       "                    \"formatter\": \"{b}: {d}%\"\n",
       "                },\n",
       "                \"emphasis\": {\n",
       "                    \"show\": true,\n",
       "                    \"textStyle\": {\n",
       "                        \"fontSize\": 12\n",
       "                    },\n",
       "                    \"formatter\": \"{b}: {d}%\"\n",
       "                }\n",
       "            },\n",
       "            \"seriesId\": 2026823\n",
       "        }\n",
       "    ],\n",
       "    \"legend\": [\n",
       "        {\n",
       "            \"data\": [\n",
       "                \"\\ubcc45\",\n",
       "                \"\\ubcc44\",\n",
       "                \"\\ubcc43\",\n",
       "                \"\\ubcc42\",\n",
       "                \"\\ubcc41\"\n",
       "            ],\n",
       "            \"selectedMode\": \"multiple\",\n",
       "            \"show\": true,\n",
       "            \"left\": \"left\",\n",
       "            \"top\": \"top\",\n",
       "            \"orient\": \"horizontal\",\n",
       "            \"textStyle\": {\n",
       "                \"fontSize\": 12\n",
       "            }\n",
       "        }\n",
       "    ],\n",
       "    \"animation\": true,\n",
       "    \"color\": [\n",
       "        \"#c23531\",\n",
       "        \"#2f4554\",\n",
       "        \"#61a0a8\",\n",
       "        \"#d48265\",\n",
       "        \"#749f83\",\n",
       "        \"#ca8622\",\n",
       "        \"#bda29a\",\n",
       "        \"#6e7074\",\n",
       "        \"#546570\",\n",
       "        \"#c4ccd3\",\n",
       "        \"#f05b72\",\n",
       "        \"#ef5b9c\",\n",
       "        \"#f47920\",\n",
       "        \"#905a3d\",\n",
       "        \"#fab27b\",\n",
       "        \"#2a5caa\",\n",
       "        \"#444693\",\n",
       "        \"#726930\",\n",
       "        \"#b2d235\",\n",
       "        \"#6d8346\",\n",
       "        \"#ac6767\",\n",
       "        \"#1d953f\",\n",
       "        \"#6950a1\",\n",
       "        \"#918597\",\n",
       "        \"#f6f5ec\"\n",
       "    ]\n",
       "};\n",
       "myChart_1bb6bbe89a4045a5997349d41e120c14.setOption(option_1bb6bbe89a4045a5997349d41e120c14);\n",
       "\n",
       "    });\n",
       "</script>\n"
      ],
      "text/plain": [
       "<pyecharts.charts.pie.Pie at 0x15899ff8940>"
      ]
     },
     "execution_count": 49,
     "metadata": {},
     "output_type": "execute_result"
    }
   ],
   "source": [
    "pie.add(\"Budz\", attr, v1, center=[25, 50], is_label_show=True ,radius=[25,60],rosetype='radius',legend_color= '#fbceb1')\n",
    "pie.add(\"Airpot-2\", attr, v2, center=[75, 50],  radius=[25, 60], rosetype='radius',legend_orient='horizontal', legend_pos='left'\n",
    "       ,is_label_show=True)"
   ]
  },
  {
   "cell_type": "markdown",
   "metadata": {
    "id": "VWVa0V_8AbLU"
   },
   "source": [
    "# STEP 05) 워드클라우드"
   ]
  },
  {
   "cell_type": "code",
   "execution_count": null,
   "metadata": {
    "id": "3NNHs-uCAbLU"
   },
   "outputs": [],
   "source": [
    "from krwordrank.hangle import normalize\n",
    "\n",
    "texts = DF[\"Comment\"]\n",
    "texts = [normalize(text, english=True, number=True) for text in texts]"
   ]
  },
  {
   "cell_type": "code",
   "execution_count": null,
   "metadata": {
    "id": "KwfcDPmjAbLV",
    "outputId": "ef39d9e5-1a01-4b92-e607-c06fb773d992"
   },
   "outputs": [],
   "source": [
    "from krwordrank.word import KRWordRank\n",
    "\n",
    "wordrank_extractor = KRWordRank(\n",
    "    min_count = 5, # 단어의 최소 출현 빈도수 (그래프 생성 시)\n",
    "    max_length = 10, # 단어의 최대 길이\n",
    "    verbose = True\n",
    "    )\n",
    "\n",
    "beta = 0.85    # PageRank의 decaying factor beta\n",
    "max_iter = 10\n",
    "\n",
    "keywords, rank, graph = wordrank_extractor.extract(texts, beta, max_iter)"
   ]
  },
  {
   "cell_type": "code",
   "execution_count": null,
   "metadata": {
    "id": "aFbpbOMkAbLV",
    "outputId": "30c76bc0-e0ce-45b7-b2c6-df41d8b7019c"
   },
   "outputs": [],
   "source": [
    "for word, r in sorted(keywords.items(), key=lambda x:x[1], reverse=True)[:30]:\n",
    "    print('%8s:\\t%.4f' % (word, r))"
   ]
  },
  {
   "cell_type": "code",
   "execution_count": null,
   "metadata": {
    "id": "HYvWhAqWAbLV",
    "outputId": "b90263f2-5cd2-40d5-f7ed-e268a7541633",
    "scrolled": false
   },
   "outputs": [],
   "source": [
    "from wordcloud import WordCloud,ImageColorGenerator\n",
    "from PIL import Image\n",
    "import matplotlib.image as mpimg\n",
    "\n",
    "\n",
    "#keywords.pop('너무')\n",
    "#keywords.pop('남편')\n",
    "\n",
    "icon = Image.open(\"C:/dev/like.png\")\n",
    "mask1 = Image.new(\"RGB\", icon.size,(255,255,255))\n",
    "mask1.paste(icon,icon)\n",
    "mask1 = np.array(mask1)\n",
    "\n",
    "\n",
    "wordcloud = WordCloud(font_path = 'C:/Windows/Fonts/malgun.ttf', background_color='#fffafa', \\\n",
    "                      colormap = \"Accent_r\",width=1000, height=500, mask =mask1)\n",
    "\n",
    "wordcloud = wordcloud.generate_from_frequencies(keywords)\n",
    "\n",
    "plt.figure(figsize=(12, 15))\n",
    "plt.imshow(wordcloud, interpolation=\"bilinear\")\n",
    "plt.axis('off')\n",
    "plt.title(\"버즈 긍정적인 REVIEW\",fontsize=30)\n",
    "plt.show()\n",
    "\n",
    "\n",
    "\n"
   ]
  },
  {
   "cell_type": "code",
   "execution_count": null,
   "metadata": {
    "id": "BwbFEme3AbLW",
    "outputId": "06b36a79-e75e-4462-80b0-1decb901c637",
    "scrolled": true
   },
   "outputs": [],
   "source": [
    "rv = pd.DataFrame\n",
    "rv = DF[(DF[\"Num_Star\"]==2)|(DF[\"Num_Star\"]==1)][\"Comment\"]\n",
    "rv"
   ]
  },
  {
   "cell_type": "code",
   "execution_count": null,
   "metadata": {
    "id": "djehFd5wAbLW",
    "outputId": "65a1c76f-0171-46d4-c711-cb6c5725652c"
   },
   "outputs": [],
   "source": [
    "texts = rv\n",
    "texts = [normalize(text, english=True, number=True) for text in texts]\n",
    "from krwordrank.word import KRWordRank\n",
    "\n",
    "wordrank_extractor = KRWordRank(\n",
    "    min_count = 2, # 단어의 최소 출현 빈도수 (그래프 생성 시)\n",
    "    max_length = 10, # 단어의 최대 길이\n",
    "    verbose = True\n",
    "    )\n",
    "\n",
    "beta = 0.85    # PageRank의 decaying factor beta\n",
    "max_iter = 10\n",
    "\n",
    "keywords, rank, graph = wordrank_extractor.extract(texts, beta, max_iter)"
   ]
  },
  {
   "cell_type": "code",
   "execution_count": null,
   "metadata": {
    "id": "CQ-wyDauAbLW"
   },
   "outputs": [],
   "source": [
    "icon = Image.open(\"C:/dev/dislike.png\")\n",
    "mask2 = Image.new(\"RGB\", icon.size,(255,255,255))\n",
    "mask2.paste(icon,icon)\n",
    "mask2 = np.array(mask2)\n"
   ]
  },
  {
   "cell_type": "code",
   "execution_count": null,
   "metadata": {
    "id": "Q55JIK4MAbLW",
    "outputId": "006dbbae-4fe9-42ae-9137-38ec46287411"
   },
   "outputs": [],
   "source": [
    "keywords.pop('소리가')\n",
    "keywords.pop('제품')\n",
    "keywords.pop('그래도')\n",
    "keywords.pop('해놓고')\n",
    "keywords.pop('삼성')\n",
    "keywords.pop('너무')\n",
    "\n",
    "\n",
    "wordcloud = WordCloud(font_path = 'C:/Windows/Fonts/malgun.ttf', background_color='#f0f0f0', \\\n",
    "                      width=2000, height=2000,mask=mask2)\n",
    "\n",
    "\n",
    "wordcloud = wordcloud.generate_from_frequencies(keywords)\n",
    "\n",
    "plt.figure(figsize=(12, 15))\n",
    "plt.imshow(wordcloud, interpolation=\"bilinear\")\n",
    "plt.axis('off')\n",
    "plt.title(\"버즈 부정적인 REVIEW\", fontsize=30)\n",
    "plt.show()\n"
   ]
  },
  {
   "cell_type": "code",
   "execution_count": null,
   "metadata": {
    "id": "1DgpLl2zAbLX"
   },
   "outputs": [],
   "source": []
  },
  {
   "cell_type": "code",
   "execution_count": null,
   "metadata": {
    "id": "zygT-sA3AbLX"
   },
   "outputs": [],
   "source": []
  },
  {
   "cell_type": "code",
   "execution_count": null,
   "metadata": {
    "id": "92JZdRgTAbLX"
   },
   "outputs": [],
   "source": []
  },
  {
   "cell_type": "code",
   "execution_count": null,
   "metadata": {
    "id": "CpnASj9HAbLX",
    "outputId": "7f90d729-36c2-4cc4-9b9a-bf0d4de22754"
   },
   "outputs": [],
   "source": [
    "texts = AF[\"Comment\"]\n",
    "texts = [normalize(text, english=True, number=True) for text in texts]\n",
    "from krwordrank.word import KRWordRank\n",
    "\n",
    "wordrank_extractor = KRWordRank(\n",
    "    min_count = 5, # 단어의 최소 출현 빈도수 (그래프 생성 시)\n",
    "    max_length = 10, # 단어의 최대 길이\n",
    "    verbose = True\n",
    "    )\n",
    "\n",
    "beta = 0.85    # PageRank의 decaying factor beta\n",
    "max_iter = 10\n",
    "\n",
    "keywords, rank, graph = wordrank_extractor.extract(texts, beta, max_iter)\n",
    "\n",
    "\n",
    "wordcloud = WordCloud(font_path = 'C:/Windows/Fonts/malgun.ttf', background_color='#fffafa', \\\n",
    "                      colormap = \"Accent_r\",width=1000, height=500, mask =mask1)\n",
    "\n",
    "wordcloud = wordcloud.generate_from_frequencies(keywords)\n",
    "\n",
    "plt.figure(figsize=(12, 15))\n",
    "plt.imshow(wordcloud, interpolation=\"bilinear\")\n",
    "plt.axis('off')\n",
    "plt.title(\"에어팟 긍정적인 REVIEW\",fontsize=30)\n",
    "plt.show()"
   ]
  },
  {
   "cell_type": "code",
   "execution_count": null,
   "metadata": {
    "id": "16OFIo9LAbLY",
    "outputId": "e683fbea-93e5-48e2-beac-56b5413ec0f4"
   },
   "outputs": [],
   "source": [
    "rv2 = pd.DataFrame\n",
    "rv2 = AF[(AF[\"Num_Star\"]==2)|(AF[\"Num_Star\"]==1)][\"Comment\"]\n",
    "texts = rv2\n",
    "texts = [normalize(text, english=True, number=True) for text in texts]\n",
    "from krwordrank.word import KRWordRank\n",
    "\n",
    "wordrank_extractor = KRWordRank(\n",
    "    min_count = 2, # 단어의 최소 출현 빈도수 (그래프 생성 시)\n",
    "    max_length = 10, # 단어의 최대 길이\n",
    "    verbose = True\n",
    "    )\n",
    "\n",
    "beta = 0.85    # PageRank의 decaying factor beta\n",
    "max_iter = 10\n",
    "\n",
    "keywords, rank, graph = wordrank_extractor.extract(texts, beta, max_iter)"
   ]
  },
  {
   "cell_type": "code",
   "execution_count": null,
   "metadata": {
    "id": "Vh7sdgOdAbLY",
    "outputId": "4926b2a5-fb55-46ad-a48f-55583a8cf616"
   },
   "outputs": [],
   "source": [
    "wordcloud = WordCloud(font_path = 'C:/Windows/Fonts/malgun.ttf', background_color='#f0f0f0', \\\n",
    "                      width=2000, height=2000,mask=mask2)\n",
    "\n",
    "\n",
    "wordcloud = wordcloud.generate_from_frequencies(keywords)\n",
    "\n",
    "plt.figure(figsize=(12, 15))\n",
    "plt.imshow(wordcloud, interpolation=\"bilinear\")\n",
    "plt.axis('off')\n",
    "plt.title(\"에어팟 부정적인 REVIEW\", fontsize=30)\n",
    "plt.show()\n"
   ]
  },
  {
   "cell_type": "code",
   "execution_count": null,
   "metadata": {
    "id": "DGQ0HghJAbLY"
   },
   "outputs": [],
   "source": []
  },
  {
   "cell_type": "code",
   "execution_count": null,
   "metadata": {
    "id": "93dH8olXAbLZ"
   },
   "outputs": [],
   "source": []
  },
  {
   "cell_type": "code",
   "execution_count": null,
   "metadata": {
    "id": "14oFj373AbLZ"
   },
   "outputs": [],
   "source": []
  },
  {
   "cell_type": "code",
   "execution_count": null,
   "metadata": {
    "id": "L5c4omWlAbLZ"
   },
   "outputs": [],
   "source": []
  },
  {
   "cell_type": "code",
   "execution_count": null,
   "metadata": {
    "id": "CVhkva8VAbLZ"
   },
   "outputs": [],
   "source": []
  }
 ],
 "metadata": {
  "colab": {
   "name": "11번가 버즈,아이폰 후기 분석.ipynb",
   "provenance": []
  },
  "kernelspec": {
   "display_name": "Python 3",
   "language": "python",
   "name": "python3"
  },
  "language_info": {
   "codemirror_mode": {
    "name": "ipython",
    "version": 3
   },
   "file_extension": ".py",
   "mimetype": "text/x-python",
   "name": "python",
   "nbconvert_exporter": "python",
   "pygments_lexer": "ipython3",
   "version": "3.8.5"
  }
 },
 "nbformat": 4,
 "nbformat_minor": 1
}
